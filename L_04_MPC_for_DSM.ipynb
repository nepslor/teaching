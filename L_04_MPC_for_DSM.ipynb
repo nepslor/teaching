{
  "nbformat": 4,
  "nbformat_minor": 0,
  "metadata": {
    "colab": {
      "name": "L_04_MPC_for_DSM.ipynb",
      "provenance": [],
      "authorship_tag": "ABX9TyMLfystgcdJLgn59lUwN534",
      "include_colab_link": true
    },
    "kernelspec": {
      "name": "python3",
      "display_name": "Python 3"
    },
    "language_info": {
      "name": "python"
    }
  },
  "cells": [
    {
      "cell_type": "markdown",
      "metadata": {
        "id": "view-in-github",
        "colab_type": "text"
      },
      "source": [
        "<a href=\"https://colab.research.google.com/github/nepslor/teaching/blob/main/L_04_MPC_for_DSM.ipynb\" target=\"_parent\"><img src=\"https://colab.research.google.com/assets/colab-badge.svg\" alt=\"Open In Colab\"/></a>"
      ]
    },
    {
      "cell_type": "markdown",
      "metadata": {
        "id": "djz0vL9A3OwF"
      },
      "source": [
        "# Model predictive control for Demand Side Managment\n",
        "In this lesson we will go through a practical introduction to model predictive control (MPC) for the control of energy systems and its role in demand side management applications."
      ]
    },
    {
      "cell_type": "code",
      "metadata": {
        "id": "KtZe2KId2_jS"
      },
      "source": [
        ""
      ],
      "execution_count": null,
      "outputs": []
    },
    {
      "cell_type": "markdown",
      "metadata": {
        "id": "jXL1mTY13NtZ"
      },
      "source": [
        ""
      ]
    }
  ]
}