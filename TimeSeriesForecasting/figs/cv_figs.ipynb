{
 "cells": [
  {
   "cell_type": "markdown",
   "source": [
    "<a href=\"https://colab.research.google.com/github/nepslor/teaching/blob/main/2023TimeSeriesForecasting/figs/cv_figs.ipynb\" target=\"_parent\"><img src=\"https://colab.research.google.com/assets/colab-badge.svg\" alt=\"Open In Colab\"/></a>"
   ],
   "metadata": {
    "collapsed": false,
    "pycharm": {
     "name": "#%% md\n"
    }
   }
  },
  {
   "cell_type": "code",
   "execution_count": null,
   "outputs": [],
   "source": [
    "import matplotlib.pyplot as plt\n",
    "import matplotlib\n",
    "\n",
    "matplotlib.pyplot.xkcd()\n",
    "import numpy as np\n",
    "\n",
    "plt.set_cmap('Greys')\n",
    "colors = plt.get_cmap('Greys', 3)\n",
    "n, alpha = 5, 0.5\n",
    "x = np.arange(1, n+1)\n",
    "\n",
    "fig, ax = plt.subplots(1, 1, figsize=(4, 4))\n",
    "ax.pcolormesh(np.eye(n)*0.5, edgecolors='k', linewidth=2, alpha=alpha, vmin=0, vmax=1)\n",
    "ax.set_aspect('equal')\n",
    "ax.tick_params(axis=u'both', which=u'both',length=0)\n",
    "ax.set_xticks(np.arange(n)+0.5)\n",
    "ax.set_xticklabels(np.arange(n))\n",
    "ax.set_yticks(np.arange(n)+0.5)\n",
    "ax.set_yticklabels(np.arange(n))\n",
    "ax.set_ylabel('folds')\n",
    "ax.set_title('standard 5 folds CV')\n",
    "\n",
    "\n",
    "fig, ax = plt.subplots(1, 1, figsize=(4, 3))\n",
    "ax.pcolormesh(np.triu(np.ones(n))[1:, :]*0.5, edgecolors='k', linewidth=2, alpha=alpha, vmin=0, vmax=1)\n",
    "ax.set_aspect('auto')\n",
    "ax.tick_params(axis=u'both', which=u'both',length=0)\n",
    "ax.set_xticks(np.arange(n)+0.5)\n",
    "ax.set_xticklabels(np.arange(n))\n",
    "ax.set_yticks(np.arange(n-1)+0.5)\n",
    "ax.set_yticklabels(np.arange(n-1))\n",
    "ax.set_ylabel('folds')\n",
    "ax.set_title('TS 5 folds CV')\n",
    "\n",
    "\n",
    "n, alpha = 5, 0.5\n",
    "x, y = np.meshgrid(np.sort(np.hstack([np.arange(n)+0.1, np.arange(1, n+1)-0.1])), np.arange(n+1))\n",
    "fig, ax = plt.subplots(1, 1, figsize=(4, 4))\n",
    "c = np.zeros((n, 2*n))\n",
    "idx_skip = np.outer(np.ones(n), np.kron(np.ones(n), [0, 1])).astype(bool)\n",
    "c[idx_skip]=1\n",
    "for i in range(n):\n",
    "  c[i, 2*i] = 0.5\n",
    "\n",
    "ax.pcolormesh(x, y, c, edgecolors='k', linewidth=2, alpha=alpha, vmin=0, vmax=1)\n",
    "ax.set_aspect('equal')\n",
    "ax.tick_params(axis=u'both', which=u'both',length=0)\n",
    "ax.set_xticks(np.arange(n)+0.5)\n",
    "ax.set_xticklabels(np.arange(n))\n",
    "ax.set_yticks(np.arange(n)+0.5)\n",
    "ax.set_yticklabels(np.arange(n))\n",
    "ax.set_ylabel('folds')\n",
    "ax.set_title('TS purged 5 folds CV')\n",
    "\n",
    "from matplotlib.lines import Line2D\n",
    "legend_elements = [Line2D([0], [0.2], marker='o', color=colors(0), label='train', markersize=5, linestyle='none'),\n",
    "                    Line2D([0], [0.2], marker='o', color=colors(1), label='test', markersize=5, linestyle='none'),\n",
    "                   Line2D([0], [0.2], marker='o', color=colors(2), label='skip', markersize=5, linestyle='none')]\n",
    "plt.legend(handles=legend_elements, bbox_to_anchor=(1.04, 1), loc=\"upper left\", title=\"Devices\", fontsize='large')\n"
   ],
   "metadata": {
    "collapsed": false,
    "pycharm": {
     "name": "#%%\n"
    }
   }
  }
 ],
 "metadata": {
  "colab": {
   "authorship_tag": "ABX9TyO2XmcC0gf6+yQ/7s0Q2S7K",
   "include_colab_link": true,
   "provenance": []
  },
  "kernelspec": {
   "display_name": "Python 3 (ipykernel)",
   "language": "python",
   "name": "python3"
  },
  "language_info": {
   "codemirror_mode": {
    "name": "ipython",
    "version": 3
   },
   "file_extension": ".py",
   "mimetype": "text/x-python",
   "name": "python",
   "nbconvert_exporter": "python",
   "pygments_lexer": "ipython3",
   "version": "3.9.5"
  }
 },
 "nbformat": 4,
 "nbformat_minor": 1
}