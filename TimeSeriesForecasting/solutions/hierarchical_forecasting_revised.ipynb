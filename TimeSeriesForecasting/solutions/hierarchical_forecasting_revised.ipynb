{
  "nbformat": 4,
  "nbformat_minor": 0,
  "metadata": {
    "colab": {
      "provenance": [],
      "authorship_tag": "ABX9TyPJKrFnPSqESNzKTJOVO/al",
      "include_colab_link": true
    },
    "kernelspec": {
      "name": "python3",
      "display_name": "Python 3"
    },
    "language_info": {
      "name": "python"
    }
  },
  "cells": [
    {
      "cell_type": "markdown",
      "metadata": {
        "id": "view-in-github",
        "colab_type": "text"
      },
      "source": [
        "<a href=\"https://colab.research.google.com/github/nepslor/teaching/blob/main/TimeSeriesForecasting/solutions/hierarchical_forecasting_revised.ipynb\" target=\"_parent\"><img src=\"https://colab.research.google.com/assets/colab-badge.svg\" alt=\"Open In Colab\"/></a>"
      ]
    },
    {
      "cell_type": "markdown",
      "source": [
        "# Hierarchical reconciliation revised\n",
        "In this notebook we will:\n",
        "1. download the m4 competition dataset\n",
        "2. use the first 8 series to build a 3-level hierarchy\n",
        "3. produce base forecasts for all the signal of the hierarchy separately, using autoARIMA\n",
        "4. build the summation matrix s\n",
        "5. write reconciliation code from scratch\n",
        "6. reconcile the forecasts on the test set"
      ],
      "metadata": {
        "id": "h1M3rA0Ud9me"
      }
    },
    {
      "cell_type": "code",
      "source": [
        "#@title Install and import packages\n",
        "%%capture\n",
        "!pip install wget\n",
        "!pip install statsforecast==1.7.3\n",
        "import numpy as np\n",
        "import pandas as pd\n",
        "import matplotlib.pyplot as plt\n",
        "from tqdm import tqdm\n",
        "import warnings\n",
        "warnings.filterwarnings(\"ignore\")\n",
        "import wget"
      ],
      "metadata": {
        "id": "n-VgkSD6c_uX"
      },
      "execution_count": 8,
      "outputs": []
    },
    {
      "cell_type": "markdown",
      "source": [
        "# 1: Data retrieval"
      ],
      "metadata": {
        "id": "vXm6UAFefJil"
      }
    },
    {
      "cell_type": "code",
      "execution_count": 2,
      "metadata": {
        "colab": {
          "base_uri": "https://localhost:8080/",
          "height": 206
        },
        "cellView": "form",
        "id": "MEKjLv1Icn0H",
        "outputId": "5f32729a-827d-43f0-f3d7-8b61fab8eb28"
      },
      "outputs": [
        {
          "output_type": "execute_result",
          "data": {
            "text/plain": [
              "  unique_id  ds         y\n",
              "0        H1   1  1.626986\n",
              "1        H1   2  1.506233\n",
              "2        H1   3  1.506233\n",
              "3        H1   4  1.334637\n",
              "4        H1   5  1.029577"
            ],
            "text/html": [
              "\n",
              "  <div id=\"df-d426f24d-afbf-44e8-bb11-ec29f5515a8d\" class=\"colab-df-container\">\n",
              "    <div>\n",
              "<style scoped>\n",
              "    .dataframe tbody tr th:only-of-type {\n",
              "        vertical-align: middle;\n",
              "    }\n",
              "\n",
              "    .dataframe tbody tr th {\n",
              "        vertical-align: top;\n",
              "    }\n",
              "\n",
              "    .dataframe thead th {\n",
              "        text-align: right;\n",
              "    }\n",
              "</style>\n",
              "<table border=\"1\" class=\"dataframe\">\n",
              "  <thead>\n",
              "    <tr style=\"text-align: right;\">\n",
              "      <th></th>\n",
              "      <th>unique_id</th>\n",
              "      <th>ds</th>\n",
              "      <th>y</th>\n",
              "    </tr>\n",
              "  </thead>\n",
              "  <tbody>\n",
              "    <tr>\n",
              "      <th>0</th>\n",
              "      <td>H1</td>\n",
              "      <td>1</td>\n",
              "      <td>1.626986</td>\n",
              "    </tr>\n",
              "    <tr>\n",
              "      <th>1</th>\n",
              "      <td>H1</td>\n",
              "      <td>2</td>\n",
              "      <td>1.506233</td>\n",
              "    </tr>\n",
              "    <tr>\n",
              "      <th>2</th>\n",
              "      <td>H1</td>\n",
              "      <td>3</td>\n",
              "      <td>1.506233</td>\n",
              "    </tr>\n",
              "    <tr>\n",
              "      <th>3</th>\n",
              "      <td>H1</td>\n",
              "      <td>4</td>\n",
              "      <td>1.334637</td>\n",
              "    </tr>\n",
              "    <tr>\n",
              "      <th>4</th>\n",
              "      <td>H1</td>\n",
              "      <td>5</td>\n",
              "      <td>1.029577</td>\n",
              "    </tr>\n",
              "  </tbody>\n",
              "</table>\n",
              "</div>\n",
              "    <div class=\"colab-df-buttons\">\n",
              "\n",
              "  <div class=\"colab-df-container\">\n",
              "    <button class=\"colab-df-convert\" onclick=\"convertToInteractive('df-d426f24d-afbf-44e8-bb11-ec29f5515a8d')\"\n",
              "            title=\"Convert this dataframe to an interactive table.\"\n",
              "            style=\"display:none;\">\n",
              "\n",
              "  <svg xmlns=\"http://www.w3.org/2000/svg\" height=\"24px\" viewBox=\"0 -960 960 960\">\n",
              "    <path d=\"M120-120v-720h720v720H120Zm60-500h600v-160H180v160Zm220 220h160v-160H400v160Zm0 220h160v-160H400v160ZM180-400h160v-160H180v160Zm440 0h160v-160H620v160ZM180-180h160v-160H180v160Zm440 0h160v-160H620v160Z\"/>\n",
              "  </svg>\n",
              "    </button>\n",
              "\n",
              "  <style>\n",
              "    .colab-df-container {\n",
              "      display:flex;\n",
              "      gap: 12px;\n",
              "    }\n",
              "\n",
              "    .colab-df-convert {\n",
              "      background-color: #E8F0FE;\n",
              "      border: none;\n",
              "      border-radius: 50%;\n",
              "      cursor: pointer;\n",
              "      display: none;\n",
              "      fill: #1967D2;\n",
              "      height: 32px;\n",
              "      padding: 0 0 0 0;\n",
              "      width: 32px;\n",
              "    }\n",
              "\n",
              "    .colab-df-convert:hover {\n",
              "      background-color: #E2EBFA;\n",
              "      box-shadow: 0px 1px 2px rgba(60, 64, 67, 0.3), 0px 1px 3px 1px rgba(60, 64, 67, 0.15);\n",
              "      fill: #174EA6;\n",
              "    }\n",
              "\n",
              "    .colab-df-buttons div {\n",
              "      margin-bottom: 4px;\n",
              "    }\n",
              "\n",
              "    [theme=dark] .colab-df-convert {\n",
              "      background-color: #3B4455;\n",
              "      fill: #D2E3FC;\n",
              "    }\n",
              "\n",
              "    [theme=dark] .colab-df-convert:hover {\n",
              "      background-color: #434B5C;\n",
              "      box-shadow: 0px 1px 3px 1px rgba(0, 0, 0, 0.15);\n",
              "      filter: drop-shadow(0px 1px 2px rgba(0, 0, 0, 0.3));\n",
              "      fill: #FFFFFF;\n",
              "    }\n",
              "  </style>\n",
              "\n",
              "    <script>\n",
              "      const buttonEl =\n",
              "        document.querySelector('#df-d426f24d-afbf-44e8-bb11-ec29f5515a8d button.colab-df-convert');\n",
              "      buttonEl.style.display =\n",
              "        google.colab.kernel.accessAllowed ? 'block' : 'none';\n",
              "\n",
              "      async function convertToInteractive(key) {\n",
              "        const element = document.querySelector('#df-d426f24d-afbf-44e8-bb11-ec29f5515a8d');\n",
              "        const dataTable =\n",
              "          await google.colab.kernel.invokeFunction('convertToInteractive',\n",
              "                                                    [key], {});\n",
              "        if (!dataTable) return;\n",
              "\n",
              "        const docLinkHtml = 'Like what you see? Visit the ' +\n",
              "          '<a target=\"_blank\" href=https://colab.research.google.com/notebooks/data_table.ipynb>data table notebook</a>'\n",
              "          + ' to learn more about interactive tables.';\n",
              "        element.innerHTML = '';\n",
              "        dataTable['output_type'] = 'display_data';\n",
              "        await google.colab.output.renderOutput(dataTable, element);\n",
              "        const docLink = document.createElement('div');\n",
              "        docLink.innerHTML = docLinkHtml;\n",
              "        element.appendChild(docLink);\n",
              "      }\n",
              "    </script>\n",
              "  </div>\n",
              "\n",
              "\n",
              "<div id=\"df-b12724e1-01de-4c53-bda0-de59dbbf1560\">\n",
              "  <button class=\"colab-df-quickchart\" onclick=\"quickchart('df-b12724e1-01de-4c53-bda0-de59dbbf1560')\"\n",
              "            title=\"Suggest charts\"\n",
              "            style=\"display:none;\">\n",
              "\n",
              "<svg xmlns=\"http://www.w3.org/2000/svg\" height=\"24px\"viewBox=\"0 0 24 24\"\n",
              "     width=\"24px\">\n",
              "    <g>\n",
              "        <path d=\"M19 3H5c-1.1 0-2 .9-2 2v14c0 1.1.9 2 2 2h14c1.1 0 2-.9 2-2V5c0-1.1-.9-2-2-2zM9 17H7v-7h2v7zm4 0h-2V7h2v10zm4 0h-2v-4h2v4z\"/>\n",
              "    </g>\n",
              "</svg>\n",
              "  </button>\n",
              "\n",
              "<style>\n",
              "  .colab-df-quickchart {\n",
              "      --bg-color: #E8F0FE;\n",
              "      --fill-color: #1967D2;\n",
              "      --hover-bg-color: #E2EBFA;\n",
              "      --hover-fill-color: #174EA6;\n",
              "      --disabled-fill-color: #AAA;\n",
              "      --disabled-bg-color: #DDD;\n",
              "  }\n",
              "\n",
              "  [theme=dark] .colab-df-quickchart {\n",
              "      --bg-color: #3B4455;\n",
              "      --fill-color: #D2E3FC;\n",
              "      --hover-bg-color: #434B5C;\n",
              "      --hover-fill-color: #FFFFFF;\n",
              "      --disabled-bg-color: #3B4455;\n",
              "      --disabled-fill-color: #666;\n",
              "  }\n",
              "\n",
              "  .colab-df-quickchart {\n",
              "    background-color: var(--bg-color);\n",
              "    border: none;\n",
              "    border-radius: 50%;\n",
              "    cursor: pointer;\n",
              "    display: none;\n",
              "    fill: var(--fill-color);\n",
              "    height: 32px;\n",
              "    padding: 0;\n",
              "    width: 32px;\n",
              "  }\n",
              "\n",
              "  .colab-df-quickchart:hover {\n",
              "    background-color: var(--hover-bg-color);\n",
              "    box-shadow: 0 1px 2px rgba(60, 64, 67, 0.3), 0 1px 3px 1px rgba(60, 64, 67, 0.15);\n",
              "    fill: var(--button-hover-fill-color);\n",
              "  }\n",
              "\n",
              "  .colab-df-quickchart-complete:disabled,\n",
              "  .colab-df-quickchart-complete:disabled:hover {\n",
              "    background-color: var(--disabled-bg-color);\n",
              "    fill: var(--disabled-fill-color);\n",
              "    box-shadow: none;\n",
              "  }\n",
              "\n",
              "  .colab-df-spinner {\n",
              "    border: 2px solid var(--fill-color);\n",
              "    border-color: transparent;\n",
              "    border-bottom-color: var(--fill-color);\n",
              "    animation:\n",
              "      spin 1s steps(1) infinite;\n",
              "  }\n",
              "\n",
              "  @keyframes spin {\n",
              "    0% {\n",
              "      border-color: transparent;\n",
              "      border-bottom-color: var(--fill-color);\n",
              "      border-left-color: var(--fill-color);\n",
              "    }\n",
              "    20% {\n",
              "      border-color: transparent;\n",
              "      border-left-color: var(--fill-color);\n",
              "      border-top-color: var(--fill-color);\n",
              "    }\n",
              "    30% {\n",
              "      border-color: transparent;\n",
              "      border-left-color: var(--fill-color);\n",
              "      border-top-color: var(--fill-color);\n",
              "      border-right-color: var(--fill-color);\n",
              "    }\n",
              "    40% {\n",
              "      border-color: transparent;\n",
              "      border-right-color: var(--fill-color);\n",
              "      border-top-color: var(--fill-color);\n",
              "    }\n",
              "    60% {\n",
              "      border-color: transparent;\n",
              "      border-right-color: var(--fill-color);\n",
              "    }\n",
              "    80% {\n",
              "      border-color: transparent;\n",
              "      border-right-color: var(--fill-color);\n",
              "      border-bottom-color: var(--fill-color);\n",
              "    }\n",
              "    90% {\n",
              "      border-color: transparent;\n",
              "      border-bottom-color: var(--fill-color);\n",
              "    }\n",
              "  }\n",
              "</style>\n",
              "\n",
              "  <script>\n",
              "    async function quickchart(key) {\n",
              "      const quickchartButtonEl =\n",
              "        document.querySelector('#' + key + ' button');\n",
              "      quickchartButtonEl.disabled = true;  // To prevent multiple clicks.\n",
              "      quickchartButtonEl.classList.add('colab-df-spinner');\n",
              "      try {\n",
              "        const charts = await google.colab.kernel.invokeFunction(\n",
              "            'suggestCharts', [key], {});\n",
              "      } catch (error) {\n",
              "        console.error('Error during call to suggestCharts:', error);\n",
              "      }\n",
              "      quickchartButtonEl.classList.remove('colab-df-spinner');\n",
              "      quickchartButtonEl.classList.add('colab-df-quickchart-complete');\n",
              "    }\n",
              "    (() => {\n",
              "      let quickchartButtonEl =\n",
              "        document.querySelector('#df-b12724e1-01de-4c53-bda0-de59dbbf1560 button');\n",
              "      quickchartButtonEl.style.display =\n",
              "        google.colab.kernel.accessAllowed ? 'block' : 'none';\n",
              "    })();\n",
              "  </script>\n",
              "</div>\n",
              "    </div>\n",
              "  </div>\n"
            ],
            "application/vnd.google.colaboratory.intrinsic+json": {
              "type": "dataframe",
              "variable_name": "df_tr",
              "summary": "{\n  \"name\": \"df_tr\",\n  \"rows\": 5600,\n  \"fields\": [\n    {\n      \"column\": \"unique_id\",\n      \"properties\": {\n        \"dtype\": \"category\",\n        \"num_unique_values\": 8,\n        \"samples\": [\n          \"H10\",\n          \"H103\",\n          \"H1\"\n        ],\n        \"semantic_type\": \"\",\n        \"description\": \"\"\n      }\n    },\n    {\n      \"column\": \"ds\",\n      \"properties\": {\n        \"dtype\": \"number\",\n        \"std\": 202,\n        \"min\": 1,\n        \"max\": 700,\n        \"num_unique_values\": 700,\n        \"samples\": [\n          159,\n          501,\n          397\n        ],\n        \"semantic_type\": \"\",\n        \"description\": \"\"\n      }\n    },\n    {\n      \"column\": \"y\",\n      \"properties\": {\n        \"dtype\": \"number\",\n        \"std\": 1.1443254349146041,\n        \"min\": 0.0,\n        \"max\": 5.790785549971986,\n        \"num_unique_values\": 3853,\n        \"samples\": [\n          4.363715709432174,\n          3.7339755690145164,\n          3.4700567995014353\n        ],\n        \"semantic_type\": \"\",\n        \"description\": \"\"\n      }\n    }\n  ]\n}"
            }
          },
          "metadata": {},
          "execution_count": 2
        }
      ],
      "source": [
        "#@title data retrieval and preprocess\n",
        "wget.download(\"https://auto-arima-results.s3.amazonaws.com/M4-Hourly.csv\", 'm4_h.csv')\n",
        "wget.download(\"https://auto-arima-results.s3.amazonaws.com/M4-Hourly-test.csv\", 'm4_h_te.csv')\n",
        "\n",
        "# data preprocessing\n",
        "df_tr = pd.read_csv('m4_h.csv')\n",
        "df_te = pd.read_csv('m4_h_te.csv').rename(columns={'y': 'y_test'})\n",
        "\n",
        "n_series = 8\n",
        "uids = df_tr['unique_id'].unique()[:n_series]\n",
        "df_tr = df_tr.query('unique_id in @uids')\n",
        "df_te = df_te.query('unique_id in @uids')\n",
        "stds = {uid: df_tr.query('unique_id == @uid')['y'].std() for uid in uids}\n",
        "means = {uid: df_tr.query('unique_id == @uid')['y'].mean() for uid in uids}\n",
        "# standardize data in df_tr and df_te\n",
        "for uid in uids:\n",
        "    y = (df_tr.loc[df_tr['unique_id'] == uid, 'y'] - means[uid])/stds[uid]\n",
        "    df_tr.loc[df_tr['unique_id'] == uid, 'y'] = y - y.min()\n",
        "    df_te.loc[df_te['unique_id'] == uid, 'y_test'] = (df_te.loc[df_te['unique_id'] == uid, 'y_test'] - means[uid])/stds[uid]- y.min()\n",
        "\n",
        "df_dummy_tr = df_tr.query('unique_id == \"H1\"').copy()\n",
        "df_dummy_te = df_te.query('unique_id == \"H1\"').copy()\n",
        "df_tr.head()"
      ]
    },
    {
      "cell_type": "markdown",
      "source": [
        "# 2: Define a hierarchy and aggregate signals"
      ],
      "metadata": {
        "id": "e_msifcSfPkO"
      }
    },
    {
      "cell_type": "code",
      "source": [
        "\n",
        "# create aggregations from the bottom time series\n",
        "groups = {  's0':uids,\n",
        "            's1':uids[:4],\n",
        "            's2': uids[4:]\n",
        "          }\n",
        "\n",
        "for name, g in groups.items():\n",
        "    df_dummy_tr['unique_id'] = name\n",
        "    df_dummy_te['unique_id'] = name\n",
        "    df_dummy_tr['y'] = df_tr.query('unique_id in @g').pivot(columns='unique_id', values='y', index='ds').sum(axis=1)\n",
        "    df_tr = pd.concat([df_tr, df_dummy_tr], axis=0)\n",
        "    df_dummy_te['y_test'] = df_te.query('unique_id in @g').pivot(columns='unique_id', values='y_test', index='ds').sum(axis=1).reset_index(drop=True)\n",
        "    df_te = pd.concat([df_te, df_dummy_te], axis=0)\n",
        "\n",
        "df_tr.reset_index(drop=True).pivot(columns='unique_id', values='y', index='ds').plot()\n"
      ],
      "metadata": {
        "id": "mnbJey93c7Dx"
      },
      "execution_count": null,
      "outputs": []
    },
    {
      "cell_type": "markdown",
      "source": [
        "#3: Produce base forecasts\n"
      ],
      "metadata": {
        "id": "oBbTgqEZfVeb"
      }
    },
    {
      "cell_type": "code",
      "source": [
        "from statsforecast.models import AutoARIMA\n",
        "\n",
        "# create a df where to store forecasts\n",
        "df_hat = df_te.copy()\n",
        "df_hat['y_test'] = 0\n",
        "\n",
        "# fit a separate model for each TS\n",
        "for uid in tqdm(df_tr['unique_id'].unique()):\n",
        "  model = AutoARIMA(season_length=24,approximation=True).fit(df_tr.query('unique_id == @uid')['y'].values)\n",
        "  df_hat.loc[df_hat['unique_id'] == uid, 'y_test'] = model.predict(48)['mean']\n"
      ],
      "metadata": {
        "colab": {
          "base_uri": "https://localhost:8080/"
        },
        "id": "5HH7iypPdQ_3",
        "outputId": "2ee41edb-ab33-435f-d5da-ecffaa23f8ab"
      },
      "execution_count": 11,
      "outputs": [
        {
          "output_type": "stream",
          "name": "stderr",
          "text": [
            "100%|██████████| 11/11 [01:18<00:00,  7.11s/it]\n"
          ]
        }
      ]
    },
    {
      "cell_type": "code",
      "source": [
        "# plot forecasts and actual signals\n",
        "fig, ax = plt.subplots(5, 2, figsize=(12, 6))\n",
        "for uid, a in zip(df_te['unique_id'].unique(), ax.ravel()):\n",
        "    y_te = df_te.loc[df_te['unique_id'] == uid, 'y_test'].reset_index(drop=True)\n",
        "    y_hat_s = df_hat.loc[df_hat['unique_id'] == uid, 'y_test'].reset_index(drop=True)\n",
        "    y_te.plot(ax=a)\n",
        "    y_hat_s.plot(ax=a)"
      ],
      "metadata": {
        "id": "CMIs2usndra_"
      },
      "execution_count": null,
      "outputs": []
    },
    {
      "cell_type": "markdown",
      "source": [
        "We put the forecasts in a wide format df and reorder the columns so that the aggregations are the first columns"
      ],
      "metadata": {
        "id": "BthfFNjjfcqi"
      }
    },
    {
      "cell_type": "code",
      "source": [
        "\n",
        "y_hat = df_hat.pivot(columns='unique_id', values='y_test', index='ds')\n",
        "y_hat = y_hat[np.hstack([['s0', 's1', 's2'], uids])]\n",
        "y_test = df_te.pivot(columns='unique_id', values='y_test', index='ds')\n",
        "y_test = y_test[np.hstack([['s0', 's1', 's2'], uids])]\n"
      ],
      "metadata": {
        "id": "g3dm85nCds5y"
      },
      "execution_count": 13,
      "outputs": []
    },
    {
      "cell_type": "markdown",
      "source": [
        "# 4: Build summation matrix"
      ],
      "metadata": {
        "id": "uK3btFowfmy7"
      }
    },
    {
      "cell_type": "code",
      "source": [
        "agg_matrix = np.vstack([[1, 1, 1, 1, 1, 1, 1, 1],\n",
        "                        [1, 1, 1, 1, 0, 0, 0, 0],\n",
        "                        [0, 0, 0, 0, 1, 1, 1, 1]])\n",
        "s_matrix = np.vstack([agg_matrix, np.eye(len(uids))])\n"
      ],
      "metadata": {
        "id": "m45ea74pdueI"
      },
      "execution_count": 14,
      "outputs": []
    },
    {
      "cell_type": "markdown",
      "source": [
        "# 5: Write reconciliation code"
      ],
      "metadata": {
        "id": "lZ3GOXiLfud5"
      }
    },
    {
      "cell_type": "code",
      "source": [
        "\n",
        "from sklearn.covariance import ShrunkCovariance\n",
        "\n",
        "\n",
        "def estimate_covariance(x):\n",
        "    cov = ShrunkCovariance().fit(x)\n",
        "    return cov.covariance_, cov.precision_\n",
        "\n",
        "\n",
        "def get_g_matrix(y, y_hat, s_matrix):\n",
        "    errs = y - y_hat\n",
        "    cov, precision = estimate_covariance(errs.values)\n",
        "    g_matrix = np.linalg.inv(s_matrix.T @ precision @ s_matrix) @ (s_matrix.T @ precision)\n",
        "    return g_matrix\n",
        "\n",
        "\n",
        "def reconcile(y, y_hat, s_matrix):\n",
        "    g_matrix = get_g_matrix(y, y_hat, s_matrix)\n",
        "    y_tilde = (s_matrix @ g_matrix @ y_hat.T).T\n",
        "    y_tilde.columns = y.columns\n",
        "    return y_tilde"
      ],
      "metadata": {
        "id": "gLFtspV0dwfX"
      },
      "execution_count": 15,
      "outputs": []
    },
    {
      "cell_type": "markdown",
      "source": [
        "# 6: Reconcile the forecasts"
      ],
      "metadata": {
        "id": "Ud1GMTOgfy99"
      }
    },
    {
      "cell_type": "code",
      "source": [
        "# reconcile forecasts\n",
        "y_tilde = reconcile(y_test, y_hat, s_matrix)\n",
        "\n",
        "# plot naive and reconciled\n",
        "fig, ax = plt.subplots(1, 2, figsize=(18, 5))\n",
        "ll = y_test.plot(ax=ax[0])\n",
        "colors = [l._color for l in ll.lines]\n",
        "[ax[0].plot(y_hat[uid], color=c, linestyle='--') for uid, c in zip(y_hat.columns, colors)]\n",
        "y_test.plot(ax=ax[1])\n",
        "[ax[1].plot(y_tilde[uid], color=c, linestyle='--') for uid, c in zip(y_tilde.columns, colors)]\n",
        "\n",
        "# retrieve nMAE\n",
        "nmae = lambda y, y_hat: np.sum(np.abs(y_hat-y), axis=0)/np.sum(np.abs(y), axis=0)\n",
        "plt.figure()\n",
        "nmae(y_test, y_hat).plot(label='naive')\n",
        "nmae(y_test, y_tilde).plot(label='reconciled')\n",
        "plt.legend()\n",
        "plt.title('nMAE')\n",
        "\n",
        "plt.pause(1)\n",
        "print('mean NMAE naive: {:0.2e}'.format(nmae(y_test, y_hat).mean()))\n",
        "print('mean NMAE reconciled: {:0.2e}'.format(nmae(y_test, y_tilde).mean()))\n"
      ],
      "metadata": {
        "id": "RfzmU8f-dy4C"
      },
      "execution_count": null,
      "outputs": []
    }
  ]
}