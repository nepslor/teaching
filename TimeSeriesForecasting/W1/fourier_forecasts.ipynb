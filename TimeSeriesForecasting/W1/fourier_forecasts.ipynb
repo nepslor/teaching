{
  "nbformat": 4,
  "nbformat_minor": 0,
  "metadata": {
    "colab": {
      "provenance": [],
      "include_colab_link": true
    },
    "kernelspec": {
      "name": "python3",
      "display_name": "Python 3"
    },
    "language_info": {
      "name": "python"
    }
  },
  "cells": [
    {
      "cell_type": "markdown",
      "metadata": {
        "id": "view-in-github",
        "colab_type": "text"
      },
      "source": [
        "<a href=\"https://colab.research.google.com/github/nepslor/teaching/blob/main/TimeSeriesForecasting/W1/fourier_forecasts.ipynb\" target=\"_parent\"><img src=\"https://colab.research.google.com/assets/colab-badge.svg\" alt=\"Open In Colab\"/></a>"
      ]
    },
    {
      "cell_type": "markdown",
      "source": [
        "# Fourier decomposition and forecasting\n",
        "Under stationarity assumption, Fourier decomposition can be used to extrapolate a signal beyond observed values. In this lesson you'll write a simple Fourier forecaster from scratch. Let's start downloading some time series\n"
      ],
      "metadata": {
        "id": "i-TBEtoa3EGy"
      }
    },
    {
      "cell_type": "code",
      "execution_count": null,
      "metadata": {
        "id": "mq6X7MpY414Y"
      },
      "outputs": [],
      "source": [
        "%%capture\n",
        "import pandas as pd\n",
        "import wget\n",
        "import numpy as np\n",
        "import matplotlib.pyplot as plt\n",
        "\n",
        "data = pd.read_pickle(wget.download(\"https://zenodo.org/record/4549296/files/reduced_dataset.pk?download=1\"));\n"
      ]
    },
    {
      "cell_type": "markdown",
      "source": [
        "We'll try to forecast the first signal"
      ],
      "metadata": {
        "id": "h6lIpIWP94ja"
      }
    },
    {
      "cell_type": "code",
      "source": [
        "data.iloc[:144*20, 0].plot();"
      ],
      "metadata": {
        "id": "aA0HfIZr9sem"
      },
      "execution_count": null,
      "outputs": []
    },
    {
      "cell_type": "markdown",
      "source": [
        "## ❓ Generate the basis functions\n",
        "Complete the following code that creates the first $n_h$ basis functions defined as:\n",
        "$$P = \\left[sin\\left(\\frac{2\\pi tk}{l}\\right), cos\\left(\\frac{2\\pi tk}{l}\\right)\\right] \\quad k\\in \\{1,\\dots n_h\\}$$\n",
        "where $l$ is the length of $t \\in \\mathbb{N}^l$.\n",
        "\n",
        "We then see that the cross-covariance matrix of these basis functions is normal, that is, off-diagonal elements are 0.\n",
        "\n",
        "Remember that we have to normalize the signals to obtain ortho-**normal** basis. When we integrated the trigonometric functions over 2$\\pi$, we shown tha the normalization constant was $\\sqrt{\\pi}$. Since we're now integrating over $l$, the normalization constant in this case is $\\sqrt{l/2}$, that is the square root of half of the integration period:\n",
        "$$ P_n = \\sqrt{2/l} \\left[sin\\left(\\frac{2\\pi tk}{l}\\right), cos\\left(\\frac{2\\pi tk}{l}\\right)\\right] \\quad k\\in \\{1,\\dots n_h\\}$$"
      ],
      "metadata": {
        "id": "fQIX65rZ6UeO"
      }
    },
    {
      "cell_type": "code",
      "source": [
        "l=100               # lenght of the signal\n",
        "n_h = 3             # number of harmonics to plot\n",
        "t = np.arange(l)    # time vector\n",
        "\n",
        "def get_basis(t, l, n_h):\n",
        "  \"\"\"\n",
        "  Get the first n_h sine and cosine basis functions and the projection\n",
        "  matrix P\n",
        "  \"\"\"\n",
        "  #sines = ?      # complete this line\n",
        "  #cosines = ?    # complete this line\n",
        "  #P = ?          # complete this line\n",
        "  return P, sines, cosines\n",
        "\n",
        "P, sines, cosines = get_basis(t, l, n_h)\n",
        "\n",
        "fig, ax = plt.subplots(2, 1, figsize=(15, 5))\n",
        "ax[0].plot(sines.T)\n",
        "ax[1].plot(cosines.T)\n",
        "ax[0].set_title('Sines and cosines basis')\n",
        "\n",
        "fig, ax = plt.subplots()\n",
        "m = ax.matshow(P.T@P)\n",
        "plt.colorbar(m)\n",
        "ax.set_title('Normality of basis', y=1.0);\n"
      ],
      "metadata": {
        "id": "6UKgaKPWE6UX"
      },
      "execution_count": null,
      "outputs": []
    },
    {
      "cell_type": "markdown",
      "source": [
        "The following is just an utility function to remove the mean from the power signal and return a training and a test set."
      ],
      "metadata": {
        "id": "Vr2i_mTs9d6Y"
      }
    },
    {
      "cell_type": "code",
      "source": [
        "def get_tr_te(p, training_steps, steps_ahead):\n",
        "  x_tr = p.iloc[:training_steps].values\n",
        "  tr_mean = np.mean(x_tr)\n",
        "  x_tr -= tr_mean\n",
        "  x_te = p.iloc[training_steps:training_steps+steps_ahead].values\n",
        "  x_te -= tr_mean\n",
        "  return x_tr, x_te\n",
        "\n",
        "p = data.iloc[:, 0].copy()\n",
        "steps_ahead = 144*7\n",
        "training_steps = 144*7\n",
        "\n",
        "x_tr, x_te = get_tr_te(p, training_steps, steps_ahead)"
      ],
      "metadata": {
        "id": "W-_gzgop9Z7o"
      },
      "execution_count": null,
      "outputs": []
    },
    {
      "cell_type": "markdown",
      "source": [
        "# ❓ Write a Fourier forecaster\n",
        "Once you have created the basis function with the same length of the training signal, you have to project the original signal onto the basis. Since the basis matrix is orthonormal:\n",
        "$$\\beta = (P^TP)^{-1}(P^Tx) =I(P^Tx)=\n",
        " P^Tx$$\n",
        "\n",
        "In order to extrapolate you just have to create a longer basis matrix $P$ and obtain the extrapolated signal using $\\beta$.\n",
        "\n",
        "You can reuse the `get_basis` function to define a new matrix, $P_{fore}$, defined over $l + l_{fore}$ where $l_{fore}$ is the length of the step ahead to be forecasted.\n"
      ],
      "metadata": {
        "id": "DHbMYzQF9Ige"
      }
    },
    {
      "cell_type": "code",
      "source": [
        "l=len(x_tr)\n",
        "n_h = 50\n",
        "t = np.arange(l)\n"
      ],
      "metadata": {
        "id": "w9HwgkTxF2wH"
      },
      "execution_count": null,
      "outputs": []
    },
    {
      "cell_type": "markdown",
      "source": [
        "# Efficient implementation\n",
        "The fast Fourier transform (FFT) can be used to implement an efficient version of the toy code you just crafted. The FFT returns the complex numbers encoding frequencies and phases for a signal $x$. Since the FFT obtain these coefficeint through windowing, in this case we also need to consider phases when reconstructing the original signal."
      ],
      "metadata": {
        "id": "0aEAP_59EZ3h"
      }
    },
    {
      "cell_type": "code",
      "source": [
        "from numpy import fft\n",
        "x_freqdom = fft.fft(x_tr)\n",
        "\n",
        "fig, ax = plt.subplots(1, 3, figsize=(20, 4))\n",
        "ax[0].plot(fft.fftfreq(l))\n",
        "ax[1].plot(np.absolute(x_freqdom)[:200] / l)\n",
        "ax[2].plot(np.angle(x_freqdom)[:200] / l)\n",
        "[a.set_title(t) for a, t in zip(ax, ['sampled freqs', 'amplitudes', 'phases'])];\n"
      ],
      "metadata": {
        "id": "PMemzR027D9V"
      },
      "execution_count": null,
      "outputs": []
    },
    {
      "cell_type": "code",
      "source": [
        "def fourierExtrapolation(x, n_predict, n_h=10):\n",
        "    n = x.size\n",
        "    x_freqdom = fft.fft(x)  # x in frequency domain\n",
        "    f = fft.fftfreq(n)      # frequencies\n",
        "\n",
        "    # sort indexes by frequency, lower -> higher\n",
        "    indexes = np.argsort(np.absolute(f))\n",
        "\n",
        "    t = np.arange(0, n + n_predict)\n",
        "    restored_sig = np.zeros(t.size)\n",
        "    for i in indexes[:1 + n_h * 2]:\n",
        "        ampli = np.absolute(x_freqdom[i]) / n   # amplitude\n",
        "        phase = np.angle(x_freqdom[i])          # phase\n",
        "        restored_sig += ampli * np.cos(2 * np.pi * f[i] * t + phase)\n",
        "    return restored_sig"
      ],
      "metadata": {
        "id": "Ieo0K8qM48Tx"
      },
      "execution_count": null,
      "outputs": []
    },
    {
      "cell_type": "code",
      "source": [
        "plt.subplots(1, 1, figsize=(20, 4))\n",
        "plt.plot(x_tr, linewidth=1)\n",
        "for n_h in [8, 16, 32]:\n",
        "  plt.plot(fourierExtrapolation(x_tr, steps_ahead, n_h), label='$n_h$: {}'.format(n_h), linewidth=4)\n",
        "plt.plot(np.hstack([x_tr*np.nan, x_te]), color='grey', linewidth=1)\n",
        "plt.legend()"
      ],
      "metadata": {
        "id": "srWn9P5i6-YX"
      },
      "execution_count": null,
      "outputs": []
    },
    {
      "cell_type": "markdown",
      "source": [
        "# ❓ What's the optimal $n_h$?\n",
        "Write a function to get the MAE on the test set, then write an optimizer to obtain the optimal value of $n_h$\n"
      ],
      "metadata": {
        "id": "z13uHQy0GWpT"
      }
    }
  ]
}