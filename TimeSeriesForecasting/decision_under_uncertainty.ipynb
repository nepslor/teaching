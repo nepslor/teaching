{
  "nbformat": 4,
  "nbformat_minor": 0,
  "metadata": {
    "colab": {
      "provenance": [],
      "include_colab_link": true
    },
    "kernelspec": {
      "name": "python3",
      "display_name": "Python 3"
    },
    "language_info": {
      "name": "python"
    }
  },
  "cells": [
    {
      "cell_type": "markdown",
      "metadata": {
        "id": "view-in-github",
        "colab_type": "text"
      },
      "source": [
        "<a href=\"https://colab.research.google.com/github/nepslor/teaching/blob/main/TimeSeriesForecasting/decision_under_uncertainty.ipynb\" target=\"_parent\"><img src=\"https://colab.research.google.com/assets/colab-badge.svg\" alt=\"Open In Colab\"/></a>"
      ]
    },
    {
      "cell_type": "markdown",
      "source": [
        "# Single stage decisions\n",
        "## Demand side management through ripple control\n"
      ],
      "metadata": {
        "id": "jY893tEkKP84",
        "pycharm": {
          "name": "#%% md\n"
        }
      }
    },
    {
      "cell_type": "code",
      "execution_count": 1,
      "metadata": {
        "id": "ltIMVb18KATX",
        "pycharm": {
          "name": "#%%\n"
        },
        "outputId": "f1125daf-f420-43b9-c08a-de3c94ba71b4",
        "colab": {
          "base_uri": "https://localhost:8080/"
        }
      },
      "outputs": [
        {
          "output_type": "stream",
          "name": "stdout",
          "text": [
            "Cloning into 'teaching'...\n",
            "remote: Enumerating objects: 288, done.\u001b[K\n",
            "remote: Counting objects: 100% (87/87), done.\u001b[K\n",
            "remote: Compressing objects: 100% (66/66), done.\u001b[K\n",
            "remote: Total 288 (delta 42), reused 55 (delta 19), pack-reused 201\u001b[K\n",
            "Receiving objects: 100% (288/288), 61.04 MiB | 8.90 MiB/s, done.\n",
            "Resolving deltas: 100% (116/116), done.\n",
            "Looking in indexes: https://pypi.org/simple, https://us-python.pkg.dev/colab-wheels/public/simple/\n",
            "Collecting pandas==1.5.1\n",
            "  Downloading pandas-1.5.1-cp38-cp38-manylinux_2_17_x86_64.manylinux2014_x86_64.whl (12.2 MB)\n",
            "\u001b[2K     \u001b[90m━━━━━━━━━━━━━━━━━━━━━━━━━━━━━━━━━━━━━━━━\u001b[0m \u001b[32m12.2/12.2 MB\u001b[0m \u001b[31m63.3 MB/s\u001b[0m eta \u001b[36m0:00:00\u001b[0m\n",
            "\u001b[?25hRequirement already satisfied: pytz>=2020.1 in /usr/local/lib/python3.8/dist-packages (from pandas==1.5.1) (2022.7)\n",
            "Requirement already satisfied: numpy>=1.20.3 in /usr/local/lib/python3.8/dist-packages (from pandas==1.5.1) (1.21.6)\n",
            "Requirement already satisfied: python-dateutil>=2.8.1 in /usr/local/lib/python3.8/dist-packages (from pandas==1.5.1) (2.8.2)\n",
            "Requirement already satisfied: six>=1.5 in /usr/local/lib/python3.8/dist-packages (from python-dateutil>=2.8.1->pandas==1.5.1) (1.15.0)\n",
            "Installing collected packages: pandas\n",
            "  Attempting uninstall: pandas\n",
            "    Found existing installation: pandas 1.3.5\n",
            "    Uninstalling pandas-1.3.5:\n",
            "      Successfully uninstalled pandas-1.3.5\n",
            "Successfully installed pandas-1.5.1\n"
          ]
        }
      ],
      "source": [
        "!git clone https://github.com/nepslor/teaching.git\n",
        "!pip install pandas==1.5.1\n"
      ]
    },
    {
      "cell_type": "code",
      "source": [
        "import numpy as np\n",
        "import pandas as pd\n",
        "import matplotlib.pyplot as plt\n",
        "from teaching.TimeSeriesForecasting.utils.merge_ramps import merge_ramps\n",
        "\n",
        "data = pd.read_pickle('teaching/TimeSeriesForecasting/data/energy_signature_data.zip')\n",
        "\n",
        "for k in ['main_p', 'main_q', 'heat_pump_p', 'heat_pump_q']:\n",
        "  data[k].iloc[:-1], _, _ = merge_ramps(data[k])\n",
        "\n",
        "data.head()\n"
      ],
      "metadata": {
        "id": "n4rfccxocNfB",
        "outputId": "80a85706-2663-4831-9030-1b840f8adf9f",
        "colab": {
          "base_uri": "https://localhost:8080/",
          "height": 206
        }
      },
      "execution_count": 13,
      "outputs": [
        {
          "output_type": "execute_result",
          "data": {
            "text/plain": [
              "                                GHI         T  battery_p  battery_q  \\\n",
              "2015-10-01 00:00:00+00:00 -2.781167  9.500000   0.037667   0.170167   \n",
              "2015-10-01 00:01:00+00:00 -2.803333  9.496667   0.038000   0.169333   \n",
              "2015-10-01 00:02:00+00:00 -2.856000  9.400000   0.038000   0.170000   \n",
              "2015-10-01 00:03:00+00:00 -2.886833  9.400000   0.038000   0.170000   \n",
              "2015-10-01 00:04:00+00:00 -2.911667  9.400000   0.038000   0.170000   \n",
              "\n",
              "                           heat_pump_p  heat_pump_q    main_p    main_q  \\\n",
              "2015-10-01 00:00:00+00:00          0.0          0.0  0.028167 -0.000333   \n",
              "2015-10-01 00:01:00+00:00          0.0          0.0 -0.011500  0.001000   \n",
              "2015-10-01 00:02:00+00:00          0.0          0.0 -0.021833 -0.003833   \n",
              "2015-10-01 00:03:00+00:00          0.0          0.0 -0.001167 -0.000833   \n",
              "2015-10-01 00:04:00+00:00          0.0          0.0  0.034500  0.015500   \n",
              "\n",
              "                            pv_p      pv_q  relay  \n",
              "2015-10-01 00:00:00+00:00  0.003  0.075833    NaN  \n",
              "2015-10-01 00:01:00+00:00  0.003  0.075500    NaN  \n",
              "2015-10-01 00:02:00+00:00  0.003  0.076000    NaN  \n",
              "2015-10-01 00:03:00+00:00  0.003  0.076000    NaN  \n",
              "2015-10-01 00:04:00+00:00  0.003  0.076000    NaN  "
            ],
            "text/html": [
              "\n",
              "  <div id=\"df-4f8e9720-2202-4041-b1a6-6e23f15a015d\">\n",
              "    <div class=\"colab-df-container\">\n",
              "      <div>\n",
              "<style scoped>\n",
              "    .dataframe tbody tr th:only-of-type {\n",
              "        vertical-align: middle;\n",
              "    }\n",
              "\n",
              "    .dataframe tbody tr th {\n",
              "        vertical-align: top;\n",
              "    }\n",
              "\n",
              "    .dataframe thead th {\n",
              "        text-align: right;\n",
              "    }\n",
              "</style>\n",
              "<table border=\"1\" class=\"dataframe\">\n",
              "  <thead>\n",
              "    <tr style=\"text-align: right;\">\n",
              "      <th></th>\n",
              "      <th>GHI</th>\n",
              "      <th>T</th>\n",
              "      <th>battery_p</th>\n",
              "      <th>battery_q</th>\n",
              "      <th>heat_pump_p</th>\n",
              "      <th>heat_pump_q</th>\n",
              "      <th>main_p</th>\n",
              "      <th>main_q</th>\n",
              "      <th>pv_p</th>\n",
              "      <th>pv_q</th>\n",
              "      <th>relay</th>\n",
              "    </tr>\n",
              "  </thead>\n",
              "  <tbody>\n",
              "    <tr>\n",
              "      <th>2015-10-01 00:00:00+00:00</th>\n",
              "      <td>-2.781167</td>\n",
              "      <td>9.500000</td>\n",
              "      <td>0.037667</td>\n",
              "      <td>0.170167</td>\n",
              "      <td>0.0</td>\n",
              "      <td>0.0</td>\n",
              "      <td>0.028167</td>\n",
              "      <td>-0.000333</td>\n",
              "      <td>0.003</td>\n",
              "      <td>0.075833</td>\n",
              "      <td>NaN</td>\n",
              "    </tr>\n",
              "    <tr>\n",
              "      <th>2015-10-01 00:01:00+00:00</th>\n",
              "      <td>-2.803333</td>\n",
              "      <td>9.496667</td>\n",
              "      <td>0.038000</td>\n",
              "      <td>0.169333</td>\n",
              "      <td>0.0</td>\n",
              "      <td>0.0</td>\n",
              "      <td>-0.011500</td>\n",
              "      <td>0.001000</td>\n",
              "      <td>0.003</td>\n",
              "      <td>0.075500</td>\n",
              "      <td>NaN</td>\n",
              "    </tr>\n",
              "    <tr>\n",
              "      <th>2015-10-01 00:02:00+00:00</th>\n",
              "      <td>-2.856000</td>\n",
              "      <td>9.400000</td>\n",
              "      <td>0.038000</td>\n",
              "      <td>0.170000</td>\n",
              "      <td>0.0</td>\n",
              "      <td>0.0</td>\n",
              "      <td>-0.021833</td>\n",
              "      <td>-0.003833</td>\n",
              "      <td>0.003</td>\n",
              "      <td>0.076000</td>\n",
              "      <td>NaN</td>\n",
              "    </tr>\n",
              "    <tr>\n",
              "      <th>2015-10-01 00:03:00+00:00</th>\n",
              "      <td>-2.886833</td>\n",
              "      <td>9.400000</td>\n",
              "      <td>0.038000</td>\n",
              "      <td>0.170000</td>\n",
              "      <td>0.0</td>\n",
              "      <td>0.0</td>\n",
              "      <td>-0.001167</td>\n",
              "      <td>-0.000833</td>\n",
              "      <td>0.003</td>\n",
              "      <td>0.076000</td>\n",
              "      <td>NaN</td>\n",
              "    </tr>\n",
              "    <tr>\n",
              "      <th>2015-10-01 00:04:00+00:00</th>\n",
              "      <td>-2.911667</td>\n",
              "      <td>9.400000</td>\n",
              "      <td>0.038000</td>\n",
              "      <td>0.170000</td>\n",
              "      <td>0.0</td>\n",
              "      <td>0.0</td>\n",
              "      <td>0.034500</td>\n",
              "      <td>0.015500</td>\n",
              "      <td>0.003</td>\n",
              "      <td>0.076000</td>\n",
              "      <td>NaN</td>\n",
              "    </tr>\n",
              "  </tbody>\n",
              "</table>\n",
              "</div>\n",
              "      <button class=\"colab-df-convert\" onclick=\"convertToInteractive('df-4f8e9720-2202-4041-b1a6-6e23f15a015d')\"\n",
              "              title=\"Convert this dataframe to an interactive table.\"\n",
              "              style=\"display:none;\">\n",
              "        \n",
              "  <svg xmlns=\"http://www.w3.org/2000/svg\" height=\"24px\"viewBox=\"0 0 24 24\"\n",
              "       width=\"24px\">\n",
              "    <path d=\"M0 0h24v24H0V0z\" fill=\"none\"/>\n",
              "    <path d=\"M18.56 5.44l.94 2.06.94-2.06 2.06-.94-2.06-.94-.94-2.06-.94 2.06-2.06.94zm-11 1L8.5 8.5l.94-2.06 2.06-.94-2.06-.94L8.5 2.5l-.94 2.06-2.06.94zm10 10l.94 2.06.94-2.06 2.06-.94-2.06-.94-.94-2.06-.94 2.06-2.06.94z\"/><path d=\"M17.41 7.96l-1.37-1.37c-.4-.4-.92-.59-1.43-.59-.52 0-1.04.2-1.43.59L10.3 9.45l-7.72 7.72c-.78.78-.78 2.05 0 2.83L4 21.41c.39.39.9.59 1.41.59.51 0 1.02-.2 1.41-.59l7.78-7.78 2.81-2.81c.8-.78.8-2.07 0-2.86zM5.41 20L4 18.59l7.72-7.72 1.47 1.35L5.41 20z\"/>\n",
              "  </svg>\n",
              "      </button>\n",
              "      \n",
              "  <style>\n",
              "    .colab-df-container {\n",
              "      display:flex;\n",
              "      flex-wrap:wrap;\n",
              "      gap: 12px;\n",
              "    }\n",
              "\n",
              "    .colab-df-convert {\n",
              "      background-color: #E8F0FE;\n",
              "      border: none;\n",
              "      border-radius: 50%;\n",
              "      cursor: pointer;\n",
              "      display: none;\n",
              "      fill: #1967D2;\n",
              "      height: 32px;\n",
              "      padding: 0 0 0 0;\n",
              "      width: 32px;\n",
              "    }\n",
              "\n",
              "    .colab-df-convert:hover {\n",
              "      background-color: #E2EBFA;\n",
              "      box-shadow: 0px 1px 2px rgba(60, 64, 67, 0.3), 0px 1px 3px 1px rgba(60, 64, 67, 0.15);\n",
              "      fill: #174EA6;\n",
              "    }\n",
              "\n",
              "    [theme=dark] .colab-df-convert {\n",
              "      background-color: #3B4455;\n",
              "      fill: #D2E3FC;\n",
              "    }\n",
              "\n",
              "    [theme=dark] .colab-df-convert:hover {\n",
              "      background-color: #434B5C;\n",
              "      box-shadow: 0px 1px 3px 1px rgba(0, 0, 0, 0.15);\n",
              "      filter: drop-shadow(0px 1px 2px rgba(0, 0, 0, 0.3));\n",
              "      fill: #FFFFFF;\n",
              "    }\n",
              "  </style>\n",
              "\n",
              "      <script>\n",
              "        const buttonEl =\n",
              "          document.querySelector('#df-4f8e9720-2202-4041-b1a6-6e23f15a015d button.colab-df-convert');\n",
              "        buttonEl.style.display =\n",
              "          google.colab.kernel.accessAllowed ? 'block' : 'none';\n",
              "\n",
              "        async function convertToInteractive(key) {\n",
              "          const element = document.querySelector('#df-4f8e9720-2202-4041-b1a6-6e23f15a015d');\n",
              "          const dataTable =\n",
              "            await google.colab.kernel.invokeFunction('convertToInteractive',\n",
              "                                                     [key], {});\n",
              "          if (!dataTable) return;\n",
              "\n",
              "          const docLinkHtml = 'Like what you see? Visit the ' +\n",
              "            '<a target=\"_blank\" href=https://colab.research.google.com/notebooks/data_table.ipynb>data table notebook</a>'\n",
              "            + ' to learn more about interactive tables.';\n",
              "          element.innerHTML = '';\n",
              "          dataTable['output_type'] = 'display_data';\n",
              "          await google.colab.output.renderOutput(dataTable, element);\n",
              "          const docLink = document.createElement('div');\n",
              "          docLink.innerHTML = docLinkHtml;\n",
              "          element.appendChild(docLink);\n",
              "        }\n",
              "      </script>\n",
              "    </div>\n",
              "  </div>\n",
              "  "
            ]
          },
          "metadata": {},
          "execution_count": 13
        }
      ]
    },
    {
      "cell_type": "markdown",
      "source": [
        "Before detecting the HP nominal power, derivatives and observations must be at first merged, since sampling introduce dispersion in the distribution of the power jumps, making it difficult to spot accumulation points.\n",
        "\n",
        "\n",
        "<center>\n",
        "<img src=\"https://raw.githubusercontent.com/nepslor/teaching/main/TimeSeriesForecasting/figs/merging_derivatives.png\" width=\"400\", centered=True>\n",
        "</center>\n",
        "\n",
        "<font size=\"-2\"><p><center>Example of sampling-induced dispersion. Blue: before merging derivatives. Orange: after merging, clusters are clearly visible</center></p></font>\n",
        "\n",
        "\n"
      ],
      "metadata": {
        "id": "oQ15K3odk3CB"
      }
    },
    {
      "cell_type": "code",
      "execution_count": 11,
      "outputs": [
        {
          "output_type": "display_data",
          "data": {
            "text/plain": [
              "<Figure size 432x576 with 3 Axes>"
            ],
            "image/png": "[encoded data removed]"
          },
          "metadata": {
            "needs_background": "light"
          }
        }
      ],
      "source": [
        "\n",
        "fig, ax= plt.subplots(3, 1, figsize=(6, 8))\n",
        "n_bins = 200\n",
        "filt = data['main_p']>1\n",
        "data['main_p'].loc[filt].\\\n",
        "    hist(bins=n_bins*2, ax=ax[0])\n",
        "\n",
        "data['heat_pump_p'].loc[filt & data['heat_pump_p']>0].\\\n",
        "    hist(bins=n_bins, ax=ax[1])\n",
        "\n",
        "data['main_p'].loc[np.roll(data[['relay']].diff().values==1, 1)].loc[filt].\\\n",
        "    hist(bins=n_bins, ax=ax[2])\n",
        "[a.set_ylabel(t) for a, t in zip(ax, ['main [kW]', 'HP [kW]', 'main filtered [kW]'])]\n",
        "[a.set_xlim([1, 7]) for a in ax.ravel()];\n",
        "\n"
      ],
      "metadata": {
        "pycharm": {
          "name": "#%%\n"
        },
        "id": "Vqm7VldobnAF",
        "outputId": "38d137b1-e863-4c7e-da90-ec0f50158278",
        "colab": {
          "base_uri": "https://localhost:8080/",
          "height": 483
        }
      }
    },
    {
      "cell_type": "code",
      "execution_count": null,
      "outputs": [],
      "source": [],
      "metadata": {
        "pycharm": {
          "name": "#%%\n"
        },
        "id": "MVWvz86-bnAG"
      }
    }
  ]
}