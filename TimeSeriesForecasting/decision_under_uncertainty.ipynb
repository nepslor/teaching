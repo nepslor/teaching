{
  "nbformat": 4,
  "nbformat_minor": 0,
  "metadata": {
    "colab": {
      "provenance": [],
      "include_colab_link": true
    },
    "kernelspec": {
      "name": "python3",
      "display_name": "Python 3"
    },
    "language_info": {
      "name": "python"
    }
  },
  "cells": [
    {
      "cell_type": "markdown",
      "metadata": {
        "id": "view-in-github",
        "colab_type": "text"
      },
      "source": [
        "<a href=\"https://colab.research.google.com/github/nepslor/teaching/blob/main/TimeSeriesForecasting/decision_under_uncertainty.ipynb\" target=\"_parent\"><img src=\"https://colab.research.google.com/assets/colab-badge.svg\" alt=\"Open In Colab\"/></a>"
      ]
    },
    {
      "cell_type": "markdown",
      "source": [
        "# Single stage decisions\n",
        "\n",
        "## Demand side management through ripple control\n",
        "In our first example, as introduced in [EX 7](https://www.notion.so/E7-Decision-under-uncertainty-61b0002c6f764d2eb4721a616124f8d9#c19ee850da4c4f9796003ff0870a3ffd), we want to predict the activation time of an heat pump, knowing historical values of the power measurements of its household. \n",
        "\n",
        "We can tackle the problem in three steps:\n",
        "* estimate the nominal power of the HP  $\\hat{P}_{hp}$. Usually, devices are not directly measuered, and metadata are rarely available. This means that we have to estimate the nominal power of the HP directly from the meter measurements.\n",
        "* estimate the energy signature of the household as a funciton of the predicted average external temperature $\\hat{E}_{d}(\\hat{T}_d)$\n",
        "* estimate the forecasting error for the estimation of the average daily tempearture $\\hat{T}_d$\n",
        "\n",
        "Finally, we can combine these estimations to retrieve the expected time needede by the HP to heat the household as, in terms of equivalent hours:\n",
        "\n",
        "$$\\hat{h}_{eq} = \\frac{\\hat{E}_{d}(\\hat{T}_d)}{\\hat{P}_{hp}}$$\n",
        "\n",
        "Needless to say, both $\\hat{P}_{hp}$ and $\\hat{E}_{d}(\\hat{T}_d)$ are probabilistc estimations with associated variance, which we'll have to properly consider when estimating $\\hat{h}_{eq}$.\n",
        "\n",
        "We start by loading the household dataset:"
      ],
      "metadata": {
        "id": "jY893tEkKP84",
        "pycharm": {
          "name": "#%% md\n"
        }
      }
    },
    {
      "cell_type": "code",
      "execution_count": 2,
      "metadata": {
        "id": "ltIMVb18KATX",
        "pycharm": {
          "name": "#%%\n"
        },
        "colab": {
          "base_uri": "https://localhost:8080/"
        },
        "outputId": "b66cc73a-4206-4cc4-a884-f7783db19e29"
      },
      "outputs": [
        {
          "output_type": "stream",
          "name": "stdout",
          "text": [
            "Cloning into 'teaching'...\n",
            "remote: Enumerating objects: 301, done.\u001b[K\n",
            "remote: Counting objects: 100% (100/100), done.\u001b[K\n",
            "remote: Compressing objects: 100% (79/79), done.\u001b[K\n",
            "remote: Total 301 (delta 49), reused 56 (delta 19), pack-reused 201\u001b[K\n",
            "Receiving objects: 100% (301/301), 61.08 MiB | 21.52 MiB/s, done.\n",
            "Resolving deltas: 100% (123/123), done.\n",
            "Looking in indexes: https://pypi.org/simple, https://us-python.pkg.dev/colab-wheels/public/simple/\n",
            "Collecting pandas==1.5.1\n",
            "  Downloading pandas-1.5.1-cp38-cp38-manylinux_2_17_x86_64.manylinux2014_x86_64.whl (12.2 MB)\n",
            "\u001b[2K     \u001b[90m━━━━━━━━━━━━━━━━━━━━━━━━━━━━━━━━━━━━━━━━\u001b[0m \u001b[32m12.2/12.2 MB\u001b[0m \u001b[31m61.5 MB/s\u001b[0m eta \u001b[36m0:00:00\u001b[0m\n",
            "\u001b[?25hRequirement already satisfied: numpy>=1.20.3 in /usr/local/lib/python3.8/dist-packages (from pandas==1.5.1) (1.21.6)\n",
            "Requirement already satisfied: pytz>=2020.1 in /usr/local/lib/python3.8/dist-packages (from pandas==1.5.1) (2022.7)\n",
            "Requirement already satisfied: python-dateutil>=2.8.1 in /usr/local/lib/python3.8/dist-packages (from pandas==1.5.1) (2.8.2)\n",
            "Requirement already satisfied: six>=1.5 in /usr/local/lib/python3.8/dist-packages (from python-dateutil>=2.8.1->pandas==1.5.1) (1.15.0)\n",
            "Installing collected packages: pandas\n",
            "  Attempting uninstall: pandas\n",
            "    Found existing installation: pandas 1.3.5\n",
            "    Uninstalling pandas-1.3.5:\n",
            "      Successfully uninstalled pandas-1.3.5\n",
            "Successfully installed pandas-1.5.1\n"
          ]
        }
      ],
      "source": [
        "!git clone https://github.com/nepslor/teaching.git\n",
        "!pip install pandas==1.5.1\n"
      ]
    },
    {
      "cell_type": "code",
      "source": [
        "import numpy as np\n",
        "import pandas as pd\n",
        "import matplotlib.pyplot as plt\n",
        "from teaching.TimeSeriesForecasting.utils.merge_ramps import merge_ramps\n",
        "\n",
        "data = pd.read_pickle('teaching/TimeSeriesForecasting/data/energy_signature_data.zip')\n",
        "data['main_p'] -=data['pv_p']\n",
        "data.head()\n"
      ],
      "metadata": {
        "colab": {
          "base_uri": "https://localhost:8080/",
          "height": 206
        },
        "id": "n4rfccxocNfB",
        "outputId": "1e571c35-55bf-481a-a0c3-d4b0dedaecc0"
      },
      "execution_count": 15,
      "outputs": [
        {
          "output_type": "execute_result",
          "data": {
            "text/plain": [
              "                                GHI         T  battery_p  battery_q  \\\n",
              "2015-10-01 00:00:00+00:00 -2.781167  9.500000   0.037667   0.170167   \n",
              "2015-10-01 00:01:00+00:00 -2.803333  9.496667   0.038000   0.169333   \n",
              "2015-10-01 00:02:00+00:00 -2.856000  9.400000   0.038000   0.170000   \n",
              "2015-10-01 00:03:00+00:00 -2.886833  9.400000   0.038000   0.170000   \n",
              "2015-10-01 00:04:00+00:00 -2.911667  9.400000   0.038000   0.170000   \n",
              "\n",
              "                           heat_pump_p  heat_pump_q    main_p    main_q  \\\n",
              "2015-10-01 00:00:00+00:00          0.0          0.0  0.445167  0.520833   \n",
              "2015-10-01 00:01:00+00:00          0.0          0.0  0.473333  0.520500   \n",
              "2015-10-01 00:02:00+00:00          0.0          0.0  0.461833  0.521500   \n",
              "2015-10-01 00:03:00+00:00          0.0          0.0  0.440000  0.517667   \n",
              "2015-10-01 00:04:00+00:00          0.0          0.0  0.438833  0.516833   \n",
              "\n",
              "                            pv_p      pv_q  relay  \n",
              "2015-10-01 00:00:00+00:00  0.003  0.075833    NaN  \n",
              "2015-10-01 00:01:00+00:00  0.003  0.075500    NaN  \n",
              "2015-10-01 00:02:00+00:00  0.003  0.076000    NaN  \n",
              "2015-10-01 00:03:00+00:00  0.003  0.076000    NaN  \n",
              "2015-10-01 00:04:00+00:00  0.003  0.076000    NaN  "
            ],
            "text/html": [
              "\n",
              "  <div id=\"df-45841934-32aa-4e6b-978e-fff0a336d2ec\">\n",
              "    <div class=\"colab-df-container\">\n",
              "      <div>\n",
              "<style scoped>\n",
              "    .dataframe tbody tr th:only-of-type {\n",
              "        vertical-align: middle;\n",
              "    }\n",
              "\n",
              "    .dataframe tbody tr th {\n",
              "        vertical-align: top;\n",
              "    }\n",
              "\n",
              "    .dataframe thead th {\n",
              "        text-align: right;\n",
              "    }\n",
              "</style>\n",
              "<table border=\"1\" class=\"dataframe\">\n",
              "  <thead>\n",
              "    <tr style=\"text-align: right;\">\n",
              "      <th></th>\n",
              "      <th>GHI</th>\n",
              "      <th>T</th>\n",
              "      <th>battery_p</th>\n",
              "      <th>battery_q</th>\n",
              "      <th>heat_pump_p</th>\n",
              "      <th>heat_pump_q</th>\n",
              "      <th>main_p</th>\n",
              "      <th>main_q</th>\n",
              "      <th>pv_p</th>\n",
              "      <th>pv_q</th>\n",
              "      <th>relay</th>\n",
              "    </tr>\n",
              "  </thead>\n",
              "  <tbody>\n",
              "    <tr>\n",
              "      <th>2015-10-01 00:00:00+00:00</th>\n",
              "      <td>-2.781167</td>\n",
              "      <td>9.500000</td>\n",
              "      <td>0.037667</td>\n",
              "      <td>0.170167</td>\n",
              "      <td>0.0</td>\n",
              "      <td>0.0</td>\n",
              "      <td>0.445167</td>\n",
              "      <td>0.520833</td>\n",
              "      <td>0.003</td>\n",
              "      <td>0.075833</td>\n",
              "      <td>NaN</td>\n",
              "    </tr>\n",
              "    <tr>\n",
              "      <th>2015-10-01 00:01:00+00:00</th>\n",
              "      <td>-2.803333</td>\n",
              "      <td>9.496667</td>\n",
              "      <td>0.038000</td>\n",
              "      <td>0.169333</td>\n",
              "      <td>0.0</td>\n",
              "      <td>0.0</td>\n",
              "      <td>0.473333</td>\n",
              "      <td>0.520500</td>\n",
              "      <td>0.003</td>\n",
              "      <td>0.075500</td>\n",
              "      <td>NaN</td>\n",
              "    </tr>\n",
              "    <tr>\n",
              "      <th>2015-10-01 00:02:00+00:00</th>\n",
              "      <td>-2.856000</td>\n",
              "      <td>9.400000</td>\n",
              "      <td>0.038000</td>\n",
              "      <td>0.170000</td>\n",
              "      <td>0.0</td>\n",
              "      <td>0.0</td>\n",
              "      <td>0.461833</td>\n",
              "      <td>0.521500</td>\n",
              "      <td>0.003</td>\n",
              "      <td>0.076000</td>\n",
              "      <td>NaN</td>\n",
              "    </tr>\n",
              "    <tr>\n",
              "      <th>2015-10-01 00:03:00+00:00</th>\n",
              "      <td>-2.886833</td>\n",
              "      <td>9.400000</td>\n",
              "      <td>0.038000</td>\n",
              "      <td>0.170000</td>\n",
              "      <td>0.0</td>\n",
              "      <td>0.0</td>\n",
              "      <td>0.440000</td>\n",
              "      <td>0.517667</td>\n",
              "      <td>0.003</td>\n",
              "      <td>0.076000</td>\n",
              "      <td>NaN</td>\n",
              "    </tr>\n",
              "    <tr>\n",
              "      <th>2015-10-01 00:04:00+00:00</th>\n",
              "      <td>-2.911667</td>\n",
              "      <td>9.400000</td>\n",
              "      <td>0.038000</td>\n",
              "      <td>0.170000</td>\n",
              "      <td>0.0</td>\n",
              "      <td>0.0</td>\n",
              "      <td>0.438833</td>\n",
              "      <td>0.516833</td>\n",
              "      <td>0.003</td>\n",
              "      <td>0.076000</td>\n",
              "      <td>NaN</td>\n",
              "    </tr>\n",
              "  </tbody>\n",
              "</table>\n",
              "</div>\n",
              "      <button class=\"colab-df-convert\" onclick=\"convertToInteractive('df-45841934-32aa-4e6b-978e-fff0a336d2ec')\"\n",
              "              title=\"Convert this dataframe to an interactive table.\"\n",
              "              style=\"display:none;\">\n",
              "        \n",
              "  <svg xmlns=\"http://www.w3.org/2000/svg\" height=\"24px\"viewBox=\"0 0 24 24\"\n",
              "       width=\"24px\">\n",
              "    <path d=\"M0 0h24v24H0V0z\" fill=\"none\"/>\n",
              "    <path d=\"M18.56 5.44l.94 2.06.94-2.06 2.06-.94-2.06-.94-.94-2.06-.94 2.06-2.06.94zm-11 1L8.5 8.5l.94-2.06 2.06-.94-2.06-.94L8.5 2.5l-.94 2.06-2.06.94zm10 10l.94 2.06.94-2.06 2.06-.94-2.06-.94-.94-2.06-.94 2.06-2.06.94z\"/><path d=\"M17.41 7.96l-1.37-1.37c-.4-.4-.92-.59-1.43-.59-.52 0-1.04.2-1.43.59L10.3 9.45l-7.72 7.72c-.78.78-.78 2.05 0 2.83L4 21.41c.39.39.9.59 1.41.59.51 0 1.02-.2 1.41-.59l7.78-7.78 2.81-2.81c.8-.78.8-2.07 0-2.86zM5.41 20L4 18.59l7.72-7.72 1.47 1.35L5.41 20z\"/>\n",
              "  </svg>\n",
              "      </button>\n",
              "      \n",
              "  <style>\n",
              "    .colab-df-container {\n",
              "      display:flex;\n",
              "      flex-wrap:wrap;\n",
              "      gap: 12px;\n",
              "    }\n",
              "\n",
              "    .colab-df-convert {\n",
              "      background-color: #E8F0FE;\n",
              "      border: none;\n",
              "      border-radius: 50%;\n",
              "      cursor: pointer;\n",
              "      display: none;\n",
              "      fill: #1967D2;\n",
              "      height: 32px;\n",
              "      padding: 0 0 0 0;\n",
              "      width: 32px;\n",
              "    }\n",
              "\n",
              "    .colab-df-convert:hover {\n",
              "      background-color: #E2EBFA;\n",
              "      box-shadow: 0px 1px 2px rgba(60, 64, 67, 0.3), 0px 1px 3px 1px rgba(60, 64, 67, 0.15);\n",
              "      fill: #174EA6;\n",
              "    }\n",
              "\n",
              "    [theme=dark] .colab-df-convert {\n",
              "      background-color: #3B4455;\n",
              "      fill: #D2E3FC;\n",
              "    }\n",
              "\n",
              "    [theme=dark] .colab-df-convert:hover {\n",
              "      background-color: #434B5C;\n",
              "      box-shadow: 0px 1px 3px 1px rgba(0, 0, 0, 0.15);\n",
              "      filter: drop-shadow(0px 1px 2px rgba(0, 0, 0, 0.3));\n",
              "      fill: #FFFFFF;\n",
              "    }\n",
              "  </style>\n",
              "\n",
              "      <script>\n",
              "        const buttonEl =\n",
              "          document.querySelector('#df-45841934-32aa-4e6b-978e-fff0a336d2ec button.colab-df-convert');\n",
              "        buttonEl.style.display =\n",
              "          google.colab.kernel.accessAllowed ? 'block' : 'none';\n",
              "\n",
              "        async function convertToInteractive(key) {\n",
              "          const element = document.querySelector('#df-45841934-32aa-4e6b-978e-fff0a336d2ec');\n",
              "          const dataTable =\n",
              "            await google.colab.kernel.invokeFunction('convertToInteractive',\n",
              "                                                     [key], {});\n",
              "          if (!dataTable) return;\n",
              "\n",
              "          const docLinkHtml = 'Like what you see? Visit the ' +\n",
              "            '<a target=\"_blank\" href=https://colab.research.google.com/notebooks/data_table.ipynb>data table notebook</a>'\n",
              "            + ' to learn more about interactive tables.';\n",
              "          element.innerHTML = '';\n",
              "          dataTable['output_type'] = 'display_data';\n",
              "          await google.colab.output.renderOutput(dataTable, element);\n",
              "          const docLink = document.createElement('div');\n",
              "          docLink.innerHTML = docLinkHtml;\n",
              "          element.appendChild(docLink);\n",
              "        }\n",
              "      </script>\n",
              "    </div>\n",
              "  </div>\n",
              "  "
            ]
          },
          "metadata": {},
          "execution_count": 15
        }
      ]
    },
    {
      "cell_type": "markdown",
      "source": [
        "### Nominal power estimation\n",
        "Before detecting the HP nominal power, derivatives and observations must be at first merged, since sampling introduce dispersion in the distribution of the power jumps, making it difficult to spot accumulation points.\n",
        "\n",
        "\n",
        "<center>\n",
        "<img src=\"https://raw.githubusercontent.com/nepslor/teaching/main/TimeSeriesForecasting/figs/merging_derivatives.png\" width=\"400\", centered=True>\n",
        "</center>\n",
        "\n",
        "<font size=\"-2\"><p><center>Example of sampling-induced dispersion. Blue: before merging derivatives. Orange: after merging, clusters are clearly visible</center></p></font>\n",
        "\n",
        "This is the task of the function `merge_ramps` that we've loaded from the course repo. \n"
      ],
      "metadata": {
        "id": "oQ15K3odk3CB"
      }
    },
    {
      "cell_type": "code",
      "source": [
        "data_diffs = data.copy()\n",
        "for k in ['main_p', 'main_q', 'heat_pump_p', 'heat_pump_q', 'pv_p']:\n",
        "  data_diffs[k].iloc[:-1], _, _ = merge_ramps(data[k])"
      ],
      "metadata": {
        "id": "nCjQsEtk5S4l"
      },
      "execution_count": 16,
      "outputs": []
    },
    {
      "cell_type": "markdown",
      "source": [
        "We can now have a look at the power distribution of:\n",
        "* the smart meter \n",
        "* the HP (that we will use only as a reference)\n",
        "* the HP, filtered by positive jumps of the relay status (that is, when the HP is being switched off)\n",
        " "
      ],
      "metadata": {
        "id": "IS0nx0qH5YVQ"
      }
    },
    {
      "cell_type": "code",
      "execution_count": 17,
      "outputs": [
        {
          "output_type": "display_data",
          "data": {
            "text/plain": [
              "<Figure size 432x576 with 3 Axes>"
            ],
            "image/png": "[encoded data removed]"
          },
          "metadata": {
            "needs_background": "light"
          }
        }
      ],
      "source": [
        "n_bins = 200\n",
        "\n",
        "filt = data_diffs['main_p']>1\n",
        "relay_on_filt = np.roll(data[['relay']].diff().values==1, 1)\n",
        "\n",
        "fig, ax= plt.subplots(3, 1, figsize=(6, 8))\n",
        "\n",
        "data_diffs['main_p'].loc[filt].\\\n",
        "    hist(bins=n_bins*2, ax=ax[0])\n",
        "\n",
        "data_diffs['heat_pump_p'].loc[data_diffs['heat_pump_p']>1].\\\n",
        "    hist(bins=n_bins, ax=ax[1])\n",
        "\n",
        "main_jumps = data_diffs['main_p'].loc[relay_on_filt]\n",
        "hp_jumps = main_jumps.loc[main_jumps>1]\n",
        "hp_jumps.hist(bins=n_bins, ax=ax[2])\n",
        "[a.set_ylabel(t) for a, t in zip(ax, ['main [kW]', 'HP [kW]', 'main filtered [kW]'])]\n",
        "[a.set_xlim([1, 7]) for a in ax.ravel()];\n"
      ],
      "metadata": {
        "pycharm": {
          "name": "#%%\n"
        },
        "colab": {
          "base_uri": "https://localhost:8080/",
          "height": 483
        },
        "id": "Vqm7VldobnAF",
        "outputId": "fcd0c89e-b037-4fd8-bdf0-f91b8bd1a006"
      }
    },
    {
      "cell_type": "markdown",
      "source": [
        "## 🥋 EX 1: find sampling PDF for "
      ],
      "metadata": {
        "id": "mwiGn-1pLbSA"
      }
    },
    {
      "cell_type": "code",
      "execution_count": 18,
      "outputs": [
        {
          "output_type": "display_data",
          "data": {
            "text/plain": [
              "<Figure size 432x288 with 1 Axes>"
            ],
            "image/png": "[encoded data removed]"
          },
          "metadata": {
            "needs_background": "light"
          }
        }
      ],
      "source": [
        "def filter_outliers(df):\n",
        "    Q1 = df.quantile(0.25)\n",
        "    Q3 = df.quantile(0.75)\n",
        "    IQR = Q3 - Q1\n",
        "    return df.loc[~((df < (Q1 - 1.5 * IQR)) |(df > (Q3 + 1.5 * IQR)))]\n",
        "\n",
        "\n",
        "# find the PDF for the nominal power to sample from\n",
        "p_pdf = filter_outliers(hp_jumps)\n",
        "p_exp = np.mean(p_pdf)\n",
        "\n",
        "fig, ax = plt.subplots(1, 1)\n",
        "ax.hist(hp_jumps, bins=np.linspace(1, 5, 100), alpha=0.5)\n",
        "ax.hist(p_pdf, bins=np.linspace(1, 5, 100), alpha=0.5)\n",
        "ax.vlines(p_exp, *plt.ylim())\n",
        "plt.show()"
      ],
      "metadata": {
        "pycharm": {
          "name": "#%%\n"
        },
        "id": "MVWvz86-bnAG",
        "outputId": "fd7f00b0-750d-4a78-be8f-a7e1e40831e0",
        "colab": {
          "base_uri": "https://localhost:8080/",
          "height": 265
        }
      }
    },
    {
      "cell_type": "code",
      "source": [
        "\n",
        "# fit an energy signature\n",
        "from scipy import optimize\n",
        "\n",
        "def fun(k, T, y):\n",
        "    return np.piecewise(T, [T < k[0],T > k[4]], [lambda T:k[1]*T + k[2]-k[1]*k[0], lambda T:k[5]*T + k[2]-k[5]*k[0], lambda T: k[2]]) - y \n",
        "x0 = np.array([15, -1, 5, 0, 25, 1])\n",
        "\n",
        "T = data['T'].resample('1d').mean()\n",
        "p = data['main_p'].resample('1d').mean()\n",
        "min_bounds = np.array([10, -100, 0, -10, 20,0]) \n",
        "max_bounds = np.array([20, 0, np.inf, 10, 30, np.inf]) \n",
        "res_robust = optimize.least_squares(fun, x0, args=(T.values, p.values), loss='huber', bounds=(min_bounds, max_bounds))\n",
        "print(res_robust.x)\n",
        "\n",
        "# find errors when the HP is active\n",
        "plt.scatter(T, p, s=2)\n",
        "plt.scatter(T, fun(res_robust.x, T.values, p.values)+p, s=1)\n",
        "plt.show()\n",
        "\n",
        "residuals = p-(fun(res_robust.x, T.values, p.values)+p)\n",
        "residuals_hp_on = residuals.loc[T<res_robust.x[0]]\n",
        "residuals_hp_on.hist(bins=n_bins)\n",
        "plt.show()\n",
        "\n",
        "es_pdf = residuals_hp_on"
      ],
      "metadata": {
        "id": "INQ5JZszMEXh",
        "outputId": "76cf1af4-935d-4c8c-d0b1-398e8250f49a",
        "colab": {
          "base_uri": "https://localhost:8080/",
          "height": 548
        }
      },
      "execution_count": 19,
      "outputs": [
        {
          "output_type": "stream",
          "name": "stdout",
          "text": [
            "[ 1.27607009e+01 -1.37251194e-01  1.15034146e+00 -2.79460677e-01\n",
            "  2.50000000e+01  1.08501760e-03]\n"
          ]
        },
        {
          "output_type": "display_data",
          "data": {
            "text/plain": [
              "<Figure size 432x288 with 1 Axes>"
            ],
            "image/png": "[encoded data removed]"
          },
          "metadata": {
            "needs_background": "light"
          }
        },
        {
          "output_type": "display_data",
          "data": {
            "text/plain": [
              "<Figure size 432x288 with 1 Axes>"
            ],
            "image/png": "[encoded data removed]"
          },
          "metadata": {
            "needs_background": "light"
          }
        }
      ]
    },
    {
      "cell_type": "markdown",
      "source": [],
      "metadata": {
        "id": "MH1nMtP1MYI1"
      }
    },
    {
      "cell_type": "code",
      "source": [
        "d_data = data.resample('1d').mean()\n",
        "filt = ~d_data['nwp_temperature'].isna()\n",
        "(d_data.loc[filt]['T'] -d_data.loc[filt]['nwp_temperature']).hist(bins=100)\n",
        "plt.show()"
      ],
      "metadata": {
        "id": "ixh8W1LahyKT"
      },
      "execution_count": null,
      "outputs": []
    }
  ]
}