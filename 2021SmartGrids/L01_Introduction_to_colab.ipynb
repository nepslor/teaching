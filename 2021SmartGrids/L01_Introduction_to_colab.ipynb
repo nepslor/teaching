{
  "nbformat": 4,
  "nbformat_minor": 0,
  "metadata": {
    "colab": {
      "name": "L01_Introduction_to_colab.ipynb",
      "provenance": [],
      "authorship_tag": "ABX9TyPzkWTVq+BItJZmxndFd+uE",
      "include_colab_link": true
    },
    "kernelspec": {
      "name": "python3",
      "display_name": "Python 3"
    }
  },
  "cells": [
    {
      "cell_type": "markdown",
      "metadata": {
        "id": "view-in-github",
        "colab_type": "text"
      },
      "source": [
        "<a href=\"https://colab.research.google.com/github/nepslor/teaching/blob/main/2021SmartGrids/L01_Introduction_to_colab.ipynb\" target=\"_parent\"><img src=\"https://colab.research.google.com/assets/colab-badge.svg\" alt=\"Open In Colab\"/></a>"
      ]
    },
    {
      "cell_type": "markdown",
      "metadata": {
        "id": "jn97Epfeaa9W"
      },
      "source": [
        "# Colab and python and energy in a nutshell*\n",
        "###### **i.e. the situation is hopeless but not serious*\n",
        "This course assignements and exercises will require some coding. In the past version of this course we used Matlab for these parts, but to avoid some installation/compatibility issues and make the exercises more accessible, this year we'll use IPython notebooks hosted on [github](https://colab.research.google.com/notebooks/intro.ipynb) and run by cloud-based service [colab](https://), directly from your browser.\n",
        "\n",
        "In this first exercise session we will go through some basics of the colab environment, IPython notebooks and python (through practical examples). This introduction is tought for students already familiar with matlab or other similar programming languages. \n",
        "\n",
        "# IPython notebooks\n",
        "IPython notebooks mix text (formatted using markdown syntax) with python code. They are thought to be interactive and to directly execute code in the browser. As you are running this notebook in colab, you can directly edit both (text and code) without worring to overwrite the original copy hosted on github. The easiest way to retain the changes you'll do is to save a copy of this notebook in your own drive through `File-> Save a copy in Drive`.\n"
      ]
    },
    {
      "cell_type": "code",
      "metadata": {
        "id": "Z-aXd5Y1aHaz"
      },
      "source": [
        ""
      ],
      "execution_count": null,
      "outputs": []
    }
  ]
}