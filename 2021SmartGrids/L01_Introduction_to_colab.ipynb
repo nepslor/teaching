{
  "nbformat": 4,
  "nbformat_minor": 0,
  "metadata": {
    "colab": {
      "name": "L01_Introduction_to_colab.ipynb",
      "provenance": [],
      "collapsed_sections": [],
      "authorship_tag": "ABX9TyPlBxR6kAyzqqB4GlbLe7Du",
      "include_colab_link": true
    },
    "kernelspec": {
      "name": "python3",
      "display_name": "Python 3"
    }
  },
  "cells": [
    {
      "cell_type": "markdown",
      "metadata": {
        "id": "view-in-github",
        "colab_type": "text"
      },
      "source": [
        "<a href=\"https://colab.research.google.com/github/nepslor/teaching/blob/main/2021SmartGrids/L01_Introduction_to_colab.ipynb\" target=\"_parent\"><img src=\"https://colab.research.google.com/assets/colab-badge.svg\" alt=\"Open In Colab\"/></a>"
      ]
    },
    {
      "cell_type": "markdown",
      "metadata": {
        "id": "jn97Epfeaa9W"
      },
      "source": [
        "# Colab, python and energy in a nutshell*\n",
        "###### **i.e. the situation is hopeless but not serious*\n",
        "This course assignements and exercises will require some coding. In the past version of this course we used Matlab for these parts, but to avoid some installation/compatibility issues and make the exercises more accessible, this year we'll use IPython notebooks hosted on [github](https://colab.research.google.com/notebooks/intro.ipynb) and run by cloud-based service [colab](https://), directly from your browser.\n",
        "\n",
        "In this first exercise session we will go through some basics of the colab environment, IPython notebooks and python (through practical examples). This introduction is tought for students already familiar with matlab or other similar programming languages. \n",
        "\n",
        "# IPython notebooks and Colab\n",
        "IPython notebooks mix text (formatted using [markdown](https://https://guides.github.com/features/mastering-markdown/) syntax) with python code. They are thought to be interactive and to directly execute code in the browser. As you are running this notebook in colab, you can directly edit both (text and code cells) without worring to overwrite the original copy hosted on github. The easiest way to retain the changes you'll do is to save a copy of this notebook in your own drive through `File-> Save a copy in Drive`.\n",
        "![](https://raw.githubusercontent.com/nepslor/teaching/main/2021SmartGrids/figs/save_a_copy.png)\n",
        "\n",
        "Of course you can also save a copy on your github repository through `File-> Save a copy in GitHub`. \n",
        "Code cells can be directly executed pressing `ctrl+enter`. The notebook is statefull, meaning that variables declared in one cell are available in the next ones, if their cell has already been executed. Try for yourself: "
      ]
    },
    {
      "cell_type": "code",
      "metadata": {
        "id": "vuVU6p3CJXtw"
      },
      "source": [
        "a = 10"
      ],
      "execution_count": 87,
      "outputs": []
    },
    {
      "cell_type": "code",
      "metadata": {
        "colab": {
          "base_uri": "https://localhost:8080/"
        },
        "id": "Z-aXd5Y1aHaz",
        "outputId": "f6c8abed-45b0-4e0f-9d13-49437beaa748"
      },
      "source": [
        "print(a)"
      ],
      "execution_count": 88,
      "outputs": [
        {
          "output_type": "stream",
          "text": [
            "10\n"
          ],
          "name": "stdout"
        }
      ]
    },
    {
      "cell_type": "markdown",
      "metadata": {
        "id": "LiVevr4AKRlm"
      },
      "source": [
        "# Python basics \n",
        "It is not possible to condense all the python syntax, data structure and architecture in a one-hour lesson, so we won't. But if you're not acquainted with python these notes will help you to quickly catch up.\n",
        "\n",
        "## Collections and numpy arrays\n",
        "Three main (ordered) built-in collection data types exhist in python: **lists**, **tuples** and **dictionaries**. They can contain any objects (numbers, other lists, classes) and possess their own methods. The main difference between lists and tuples is that the seconds are not *mutable*, i.e. you cannot change the values of their elements after they've been declared. Dictionaries contains *items* indexed by *keys*, so can be useful to assign tags to your data.  "
      ]
    },
    {
      "cell_type": "code",
      "metadata": {
        "colab": {
          "base_uri": "https://localhost:8080/"
        },
        "id": "fHZbfBCYLQWI",
        "outputId": "88dbd314-7d0d-4f32-df36-80de9c5992f3"
      },
      "source": [
        "my_list = [1, 2, 3, 4]\n",
        "print('this is a list: {}'.format(my_list))\n",
        "\n",
        "my_tuple= (1, 2, 3, 4)\n",
        "print('this is a tuple: {}'.format(my_tuple))\n",
        "\n",
        "my_dict = {'a':1, 'b':2, 'c':3, 'd':4}\n",
        "print('this is a dict: {}'.format(my_dict))\n",
        "print('my_dict kesy are:{}'.format(my_dict.keys()))"
      ],
      "execution_count": 89,
      "outputs": [
        {
          "output_type": "stream",
          "text": [
            "this is a list: [1, 2, 3, 4]\n",
            "this is a tuple: (1, 2, 3, 4)\n",
            "this is a dict: {'a': 1, 'b': 2, 'c': 3, 'd': 4}\n",
            "my_dict kesy are:dict_keys(['a', 'b', 'c', 'd'])\n"
          ],
          "name": "stdout"
        }
      ]
    },
    {
      "cell_type": "markdown",
      "metadata": {
        "id": "tvFzo_mHSBC1"
      },
      "source": [
        "besides built in collections, the most used type of collections are numpy ndarray. Numpy ndarray can have an arbitrary number of dimensions, 1-D, 2-D and 3-D np.arrays can be seen as vectors, matrices and tensors, respectively. Non built-in libraries must be imported "
      ]
    },
    {
      "cell_type": "code",
      "metadata": {
        "colab": {
          "base_uri": "https://localhost:8080/"
        },
        "id": "v1sUHUlJSxXL",
        "outputId": "bdf64c2b-5e21-4cc3-c770-d7aaab258096"
      },
      "source": [
        "import numpy as np\n",
        "my_array = np.array([1,2,3,4])\n",
        "print(my_array)\n",
        "\n",
        "# numpy has several ad-hoc function for the creation of arrays\n",
        "z = np.vstack([np.ones(5), 2 * np.ones(5)]) # vertically stacks a unitary vector and all-2-vector of length 5\n",
        "print(z)\n",
        "print(z.T) # transpose z\n",
        "print(z.reshape(1, -1)) # reshape to a 1-D vector, infer the second dimension\n",
        "\n",
        "# order 3 array (tensor)\n",
        "print('I am a tensor: {}'.format(np.ones((2,2,2)))) \n"
      ],
      "execution_count": 90,
      "outputs": [
        {
          "output_type": "stream",
          "text": [
            "[1 2 3 4]\n",
            "[[1. 1. 1. 1. 1.]\n",
            " [2. 2. 2. 2. 2.]]\n",
            "[[1. 2.]\n",
            " [1. 2.]\n",
            " [1. 2.]\n",
            " [1. 2.]\n",
            " [1. 2.]]\n",
            "[[1. 1. 1. 1. 1. 2. 2. 2. 2. 2.]]\n",
            "I am a tensor: [[[1. 1.]\n",
            "  [1. 1.]]\n",
            "\n",
            " [[1. 1.]\n",
            "  [1. 1.]]]\n"
          ],
          "name": "stdout"
        }
      ]
    },
    {
      "cell_type": "markdown",
      "metadata": {
        "id": "5PtocL9ByslK"
      },
      "source": [
        "### Autocompletion\n",
        "Colab (as well as other common IDEs) provides autocompletion. Just press `ctrl+space` to invoke it. This is useful when you can guess the name of a command you need but you are not sure the exact name or its function's signature (how many and which kind of arguments it accepts). Let's try to use it to multiply the following matrices and do some basic operations on them:"
      ]
    },
    {
      "cell_type": "code",
      "metadata": {
        "id": "yGnI8rFhzbl3"
      },
      "source": [
        "\n",
        "a = np.ones((10,3)) * np.arange(2,5)  \n",
        "b = np.array([[0, 0, 0],[2, 1, 0], [1, 1, 1]]).T\n",
        "\n",
        "# perform matrix multiplication\n",
        "\n",
        "# sum of the columns of c \n",
        "\n",
        "# sum the rows of c\n",
        "\n",
        "# perform singular value decomposition of c through the np.linalg module\n"
      ],
      "execution_count": 91,
      "outputs": []
    },
    {
      "cell_type": "markdown",
      "metadata": {
        "id": "djf_m8mtVEtG"
      },
      "source": [
        "## Plotting\n",
        "Several plotting libraries exhist for python, we will exclusively use matplotlib, which is the most used. Basic results can be achieved in one line of code, the more fancy we get the more effort is required. In the following cell we will use it to visualize matrix multiplication with numpy."
      ]
    },
    {
      "cell_type": "code",
      "metadata": {
        "colab": {
          "base_uri": "https://localhost:8080/",
          "height": 801
        },
        "id": "2OgmGVeMUt6a",
        "outputId": "af280931-8c67-4eff-fc06-78a4628f876d"
      },
      "source": [
        "import matplotlib.pyplot as plt\n",
        "\n",
        "# matrix multiplication between np.arrays can be invoked also using \"@\"\n",
        "c = a @ b\n",
        "\n",
        "# basic plot\n",
        "plt.plot(np.random.randn(10,2));\n",
        "plt.title('random data')\n",
        "\n",
        "# make more than one plot in the same image\n",
        "fig, ax = plt.subplots(1, 2)\n",
        "cmap = plt.get_cmap('viridis',20)\n",
        "[ax[0].plot(np.cos(2*np.pi*np.arange(21)/20)* i**0.5, alpha=0.5, color=cmap(i)) for i in range(20)];\n",
        "[ax[1].plot(np.sin(2*np.pi*np.arange(21)/20)* i**0.5, alpha=0.5, color=cmap(i)) for i in range(20)];\n",
        "\n",
        "# illustrate matrix multiplication from the previous cell\n",
        "fig, ax = plt.subplots(1, 5)\n",
        "ax[0].matshow(a, vmin=0, vmax=9)\n",
        "ax[1].text(0.5,0.5,'@',fontsize=12, multialignment='center', transform=ax[1].transAxes)\n",
        "ax[2].matshow(b, vmin=0, vmax=9)\n",
        "ax[3].text(0.5,0.5,'=',fontsize=12, multialignment='center', transform=ax[3].transAxes)\n",
        "cl = ax[4].matshow(c, vmin=0, vmax=9)\n",
        "[ax[i].axis('off') for i in range(5)]\n",
        "fig.colorbar(cl, cax=fig.add_axes([0.92, 0.08, 0.03, 0.8]) )\n"
      ],
      "execution_count": 92,
      "outputs": [
        {
          "output_type": "execute_result",
          "data": {
            "text/plain": [
              "<matplotlib.colorbar.Colorbar at 0x7f858ef77590>"
            ]
          },
          "metadata": {
            "tags": []
          },
          "execution_count": 92
        },
        {
          "output_type": "display_data",
          "data": {
            "image/png": "[encoded data removed]",
            "text/plain": [
              "<Figure size 432x288 with 1 Axes>"
            ]
          },
          "metadata": {
            "tags": [],
            "needs_background": "light"
          }
        },
        {
          "output_type": "display_data",
          "data": {
            "image/png": "[encoded data removed]",
            "text/plain": [
              "<Figure size 432x288 with 2 Axes>"
            ]
          },
          "metadata": {
            "tags": [],
            "needs_background": "light"
          }
        },
        {
          "output_type": "display_data",
          "data": {
            "image/png": "[encoded data removed]",
            "text/plain": [
              "<Figure size 432x288 with 6 Axes>"
            ]
          },
          "metadata": {
            "tags": [],
            "needs_background": "light"
          }
        }
      ]
    },
    {
      "cell_type": "markdown",
      "metadata": {
        "id": "7t8_D-FDR4qG"
      },
      "source": [
        "#List comprehension and lambda functions\n",
        "List comprehension are elegant constructs that can replace simple for loops with if/else conditions. Lambda functions are the equivalent of Matlab's anonimous functions."
      ]
    },
    {
      "cell_type": "code",
      "metadata": {
        "colab": {
          "base_uri": "https://localhost:8080/"
        },
        "id": "3VesdpkKPU2E",
        "outputId": "783a07c9-b67d-4f28-8ab6-6268ba02bba8"
      },
      "source": [
        "# basic list comprehension\n",
        "my_second_list = [i**2 for i in range(5)] \n",
        "print(my_second_list)\n",
        "\n",
        "# if statement list comprehension\n",
        "my_third_list = [i**2 for i in range(5) if i%2==0]\n",
        "print(my_third_list)\n",
        "\n",
        "# if-else statement list comprehension\n",
        "my_fourth_list = [i**2 if i%2==0 else 'odd' for i in range(5)]\n",
        "print(my_fourth_list)\n",
        "\n",
        "# lambda function\n",
        "fib = lambda x: x if x<2 else fib(x-1) + fib(x-2) \n",
        "print([fib(i) for i in range(10)])"
      ],
      "execution_count": 93,
      "outputs": [
        {
          "output_type": "stream",
          "text": [
            "[0, 1, 4, 9, 16]\n",
            "[0, 4, 16]\n",
            "[0, 'odd', 4, 'odd', 16]\n",
            "[0, 1, 1, 2, 3, 5, 8, 13, 21, 34]\n"
          ],
          "name": "stdout"
        }
      ]
    },
    {
      "cell_type": "markdown",
      "metadata": {
        "id": "5U5YrSY71Icd"
      },
      "source": [
        "Now your turn! Try to complete the following examples:"
      ]
    },
    {
      "cell_type": "code",
      "metadata": {
        "colab": {
          "base_uri": "https://localhost:8080/"
        },
        "id": "1FWKNF451G_S",
        "outputId": "52893c56-001f-43f6-a000-154683c759f8"
      },
      "source": [
        "# print the names of the swiss universities with an enrollment numer higher than 10000\n",
        "swiss_uni = {\"UZH\":26356, \"USI\":2862, \"UNINE\":4173, \"UNILU\":3037, \"UNIL\":13500, \n",
        "             \"UNIGE\":16530, \"UNIFR\":10000, \"UNIBE\":17882, \"UNIBAS\":12852,\n",
        "             \"HSG\":8553, \"ETH\":20607, \"EPFL\":10686}\n",
        "print([])"
      ],
      "execution_count": 94,
      "outputs": [
        {
          "output_type": "stream",
          "text": [
            "[]\n"
          ],
          "name": "stdout"
        }
      ]
    },
    {
      "cell_type": "markdown",
      "metadata": {
        "id": "rJ19FDKrhYyH"
      },
      "source": [
        "## Installing non-standard packages, retrieving and manipulating tabular data\n",
        "The most common packages are already installed in the colab virtual environment. If we need more advanced packages, we can install them directly in the virtual machine running our notebook. We can use the wget package to download aggregated energy data for Switzerland, hosted [here](https://www.swissgrid.ch/en/home/customers/topics/energy-data-ch.html) by Swissgrid.\n",
        "\n"
      ]
    },
    {
      "cell_type": "code",
      "metadata": {
        "id": "VYfOotpxiDlH"
      },
      "source": [
        "# \"%%\"\" invokes an IPython magic command. This one just hides the output of the\n",
        "# cell that would be directed to standard output\n",
        "%%capture   \n",
        "!pip install wget   # invokes the standard python package manager and installs wget\n",
        "import wget\n",
        "\n",
        "raw_data = wget.download(\"https://www.swissgrid.ch/dam/dataimport/energy-statistic/EnergieUebersichtCH-2020.xlsx\")"
      ],
      "execution_count": 95,
      "outputs": []
    },
    {
      "cell_type": "markdown",
      "metadata": {
        "id": "F-ZwJxH9qwtu"
      },
      "source": [
        "We can use the pandas library to import and manipulate tabular data. It is the most used library for tabular data manipulation and supports the most common data formats. Just start writing `pd.read_` and press `ctrl+space` to invoke the autocompletion and see a list of the supported formats:\n",
        "![](https://raw.githubusercontent.com/nepslor/teaching/main/2021SmartGrids/figs/pandas_imports.png)\n",
        "In the following cell we import a given sheet from the excel file, use its first two rows to create a multi index pandas DataFrame and visualize its first rows."
      ]
    },
    {
      "cell_type": "code",
      "metadata": {
        "colab": {
          "base_uri": "https://localhost:8080/",
          "height": 943
        },
        "id": "GsANEGtDK2tg",
        "outputId": "0f764a98-f516-4a93-f2ca-e7736dd6b4a4"
      },
      "source": [
        "import pandas as pd\n",
        "data = pd.read_excel(raw_data, sheet_name='Zeitreihen0h15',header=[0,1], index_col=0)\n",
        "\n",
        "# print only english description of the columns, omitting production and consumption per canton\n",
        "[print(n.split('\\n')[1]) for n in data.columns.get_level_values(0) if '\\n' in n \n",
        " and np.all([s not in n  for s in ['Consumption Canton', 'Production Canton']])]\n",
        "# print the first rows of the dataset\n",
        "data.head()\n"
      ],
      "execution_count": 96,
      "outputs": [
        {
          "output_type": "stream",
          "text": [
            "Total energy consumed by end users in the Swiss controlblock\n",
            "Total energy production Swiss controlblock\n",
            "Total energy consumption Swiss controlblock\n",
            "Net outflow of the Swiss transmission grid\n",
            "Grid feed-in Swiss transmission grid\n",
            "Positive secundary control energy\n",
            "Negative secundary control energy\n",
            "Positive tertiary control energy\n",
            "Negative tertiary control energy\n",
            "Cross Border Exchange CH->AT\n",
            "Cross Border Exchange AT->CH\n",
            "Cross Border Exchange CH->DE\n",
            "Cross Border Exchange DE->CH\n",
            "Cross Border Exchange CH->FR\n",
            "Cross Border Exchange FR->CH\n",
            "Cross Border Exchange CH->IT\n",
            "Cross Border Exchange IT->CH\n",
            "Average positive secondary control energy prices\n",
            "Average negative secondary control energy prices\n",
            "Average positive tertiary control energy prices\n",
            "Average negative tertiary control energy prices\n",
            "Production across Cantons\n",
            "Consumption across Cantons\n",
            "Production control area CH - foreign territories\n",
            "Consumption control area CH - foreign territories\n"
          ],
          "name": "stdout"
        },
        {
          "output_type": "execute_result",
          "data": {
            "text/html": [
              "<div>\n",
              "<style scoped>\n",
              "    .dataframe tbody tr th:only-of-type {\n",
              "        vertical-align: middle;\n",
              "    }\n",
              "\n",
              "    .dataframe tbody tr th {\n",
              "        vertical-align: top;\n",
              "    }\n",
              "\n",
              "    .dataframe thead tr th {\n",
              "        text-align: left;\n",
              "    }\n",
              "</style>\n",
              "<table border=\"1\" class=\"dataframe\">\n",
              "  <thead>\n",
              "    <tr>\n",
              "      <th></th>\n",
              "      <th>Summe endverbrauchte Energie Regelblock Schweiz\\nTotal energy consumed by end users in the Swiss controlblock</th>\n",
              "      <th>Summe produzierte Energie Regelblock Schweiz\\nTotal energy production Swiss controlblock</th>\n",
              "      <th>Summe verbrauchte Energie Regelblock Schweiz\\nTotal energy consumption Swiss controlblock</th>\n",
              "      <th>Netto Ausspeisung aus dem Übertragungsnetz Schweiz\\nNet outflow of the Swiss transmission grid</th>\n",
              "      <th>Vertikale Einspeisung ins Übertragungsnetz Schweiz\\nGrid feed-in Swiss transmission grid</th>\n",
              "      <th>Positive Sekundär-Regelenergie\\nPositive secundary control energy</th>\n",
              "      <th>Negative Sekundär-Regelenergie\\nNegative secundary control energy</th>\n",
              "      <th>Positive Tertiär-Regelenergie\\nPositive tertiary control energy</th>\n",
              "      <th>Negative Tertiär-Regelenergie\\nNegative tertiary control energy</th>\n",
              "      <th>Verbundaustausch CH-&gt;AT\\nCross Border Exchange CH-&gt;AT</th>\n",
              "      <th>Verbundaustausch AT-&gt;CH\\nCross Border Exchange AT-&gt;CH</th>\n",
              "      <th>Verbundaustausch CH-&gt;DE\\nCross Border Exchange CH-&gt;DE</th>\n",
              "      <th>Verbundaustausch DE-&gt;CH\\nCross Border Exchange DE-&gt;CH</th>\n",
              "      <th>Verbundaustausch CH-&gt;FR\\nCross Border Exchange CH-&gt;FR</th>\n",
              "      <th>Verbundaustausch FR-&gt;CH\\nCross Border Exchange FR-&gt;CH</th>\n",
              "      <th>Verbundaustausch CH-&gt;IT\\nCross Border Exchange CH-&gt;IT</th>\n",
              "      <th>Verbundaustausch IT-&gt;CH\\nCross Border Exchange IT-&gt;CH</th>\n",
              "      <th>Transit</th>\n",
              "      <th>Import</th>\n",
              "      <th>Export</th>\n",
              "      <th>Durchschnittliche positive Sekundär-Regelenergie Preise\\nAverage positive secondary control energy prices</th>\n",
              "      <th>Durchschnittliche negative Sekundär-Regelenergie Preise\\nAverage negative secondary control energy prices</th>\n",
              "      <th>Durchschnittliche positive Tertiär-Regelenergie Preise\\nAverage positive tertiary control energy prices</th>\n",
              "      <th>Durchschnittliche negative Tertiär-Regelenergie Preise\\nAverage negative tertiary control energy prices</th>\n",
              "      <th>Produktion Kanton AG\\nProduction Canton AG</th>\n",
              "      <th>Verbrauch Kanton AG\\nConsumption Canton AG</th>\n",
              "      <th>Produktion Kanton FR\\nProduction Canton FR</th>\n",
              "      <th>Verbrauch Kanton FR\\nConsumption Canton FR</th>\n",
              "      <th>Produktion Kanton GL\\nProduction Canton GL</th>\n",
              "      <th>Verbrauch Kanton GL\\nConsumption Canton GL</th>\n",
              "      <th>Produktion Kanton GR\\nProduction Canton GR</th>\n",
              "      <th>Verbrauch Kanton GR\\nConsumption Canton GR</th>\n",
              "      <th>Produktion Kanton LU\\nProduction Canton LU</th>\n",
              "      <th>Verbrauch Kanton LU\\nConsumption Canton LU</th>\n",
              "      <th>Produktion Kanton NE\\nProduction Canton NE</th>\n",
              "      <th>Verbrauch Kanton NE\\nConsumption Canton NE</th>\n",
              "      <th>Produktion Kanton SO\\nProduction Canton SO</th>\n",
              "      <th>Verbrauch Kanton SO\\nConsumption Canton SO</th>\n",
              "      <th>Produktion Kanton SG\\nProduction Canton SG</th>\n",
              "      <th>Verbrauch Kanton SG\\nConsumption Canton SG</th>\n",
              "      <th>Produktion Kanton TI\\nProduction Canton TI</th>\n",
              "      <th>Verbrauch Kanton TI\\nConsumption Canton TI</th>\n",
              "      <th>Produktion Kanton TG\\nProduction Canton TG</th>\n",
              "      <th>Verbrauch Kanton TG\\nConsumption Canton TG</th>\n",
              "      <th>Produktion Kanton VS\\nProduction Canton VS</th>\n",
              "      <th>Verbrauch Kanton VS\\nConsumption Canton VS</th>\n",
              "      <th>Produktion Kantone AI, AR\\nProduction Cantons AI, AR</th>\n",
              "      <th>Verbrauch Kantone AI, AR\\nConsumption Cantons AI, AR</th>\n",
              "      <th>Produktion Kantone BL, BS\\nProduction Cantons BL, BS</th>\n",
              "      <th>Verbrauch Kantone BL, BS\\nConsumption Cantons BL, BS</th>\n",
              "      <th>Produktion Kantone BE, JU\\nProduction Cantons BE, JU</th>\n",
              "      <th>Verbrauch Kantone BE, JU\\nConsumption Cantons BE, JU</th>\n",
              "      <th>Produktion Kantone SZ, ZG\\nProduction Cantons SZ, ZG</th>\n",
              "      <th>Verbrauch Kantone SZ, ZG\\nConsumption Cantons SZ, ZG</th>\n",
              "      <th>Produktion Kantone OW, NW, UR\\nProduction Cantons OW, NW, UR</th>\n",
              "      <th>Verbrauch Kantone OW, NW, UR\\nConsumption Cantons OW, NW, UR</th>\n",
              "      <th>Produktion Kantone GE, VD\\nProduction Cantons GE, VD</th>\n",
              "      <th>Verbrauch Kantone GE, VD\\nConsumption Cantons GE, VD</th>\n",
              "      <th>Produktion Kantone SH, ZH\\nProduction Cantons SH, ZH</th>\n",
              "      <th>Verbrauch Kantone SH, ZH\\nConsumption Cantons SH, ZH</th>\n",
              "      <th>Produktion Kantonsübergreifend\\nProduction across Cantons</th>\n",
              "      <th>Verbrauch Kantonsübergreifend\\nConsumption across Cantons</th>\n",
              "      <th>Produktion Regelzone CH - Ausländische Gebiete\\nProduction control area CH - foreign territories</th>\n",
              "      <th>Verbrauch Regelzone CH - Ausländische Gebiete\\nConsumption control area CH - foreign territories</th>\n",
              "    </tr>\n",
              "    <tr>\n",
              "      <th>Zeitstempel</th>\n",
              "      <th>kWh</th>\n",
              "      <th>kWh</th>\n",
              "      <th>kWh</th>\n",
              "      <th>kWh</th>\n",
              "      <th>kWh</th>\n",
              "      <th>kWh</th>\n",
              "      <th>kWh</th>\n",
              "      <th>kWh</th>\n",
              "      <th>kWh</th>\n",
              "      <th>kWh</th>\n",
              "      <th>kWh</th>\n",
              "      <th>kWh</th>\n",
              "      <th>kWh</th>\n",
              "      <th>kWh</th>\n",
              "      <th>kWh</th>\n",
              "      <th>kWh</th>\n",
              "      <th>kWh</th>\n",
              "      <th>kWh</th>\n",
              "      <th>kWh</th>\n",
              "      <th>kWh</th>\n",
              "      <th>Euro/MWh</th>\n",
              "      <th>Euro/MWh</th>\n",
              "      <th>Euro/MWh</th>\n",
              "      <th>Euro/MWh</th>\n",
              "      <th>kWh</th>\n",
              "      <th>kWh</th>\n",
              "      <th>kWh</th>\n",
              "      <th>kWh</th>\n",
              "      <th>kWh</th>\n",
              "      <th>kWh</th>\n",
              "      <th>kWh</th>\n",
              "      <th>kWh</th>\n",
              "      <th>kWh</th>\n",
              "      <th>kWh</th>\n",
              "      <th>kWh</th>\n",
              "      <th>kWh</th>\n",
              "      <th>kWh</th>\n",
              "      <th>kWh</th>\n",
              "      <th>kWh</th>\n",
              "      <th>kWh</th>\n",
              "      <th>kWh</th>\n",
              "      <th>kWh</th>\n",
              "      <th>kWh</th>\n",
              "      <th>kWh</th>\n",
              "      <th>kWh</th>\n",
              "      <th>kWh</th>\n",
              "      <th>kWh</th>\n",
              "      <th>kWh</th>\n",
              "      <th>kWh</th>\n",
              "      <th>kWh</th>\n",
              "      <th>kWh</th>\n",
              "      <th>kWh</th>\n",
              "      <th>kWh</th>\n",
              "      <th>kWh</th>\n",
              "      <th>kWh</th>\n",
              "      <th>kWh</th>\n",
              "      <th>kWh</th>\n",
              "      <th>kWh</th>\n",
              "      <th>kWh</th>\n",
              "      <th>kWh</th>\n",
              "      <th>kWh</th>\n",
              "      <th>kWh</th>\n",
              "      <th>kWh</th>\n",
              "      <th>kWh</th>\n",
              "    </tr>\n",
              "  </thead>\n",
              "  <tbody>\n",
              "    <tr>\n",
              "      <th>2020-01-01 00:15:00</th>\n",
              "      <td>1641923.835</td>\n",
              "      <td>1.406614e+06</td>\n",
              "      <td>1.777785e+06</td>\n",
              "      <td>337804.533307</td>\n",
              "      <td>991384.320010</td>\n",
              "      <td>1846.0</td>\n",
              "      <td>-275.0</td>\n",
              "      <td>17500.0</td>\n",
              "      <td>0.0</td>\n",
              "      <td>0</td>\n",
              "      <td>220608</td>\n",
              "      <td>9500</td>\n",
              "      <td>544900</td>\n",
              "      <td>120204.75</td>\n",
              "      <td>161957.25</td>\n",
              "      <td>451379</td>\n",
              "      <td>46039</td>\n",
              "      <td>581944.25</td>\n",
              "      <td>975932.75</td>\n",
              "      <td>581944.25</td>\n",
              "      <td>42.50</td>\n",
              "      <td>28.34</td>\n",
              "      <td>51.407143</td>\n",
              "      <td>0.0</td>\n",
              "      <td>434292.802</td>\n",
              "      <td>142321.865</td>\n",
              "      <td>15537.060</td>\n",
              "      <td>77314.767</td>\n",
              "      <td>89556.341</td>\n",
              "      <td>45550.258</td>\n",
              "      <td>76298.139</td>\n",
              "      <td>77285.998</td>\n",
              "      <td>8616.977</td>\n",
              "      <td>115228.934</td>\n",
              "      <td>823.556</td>\n",
              "      <td>14872.655</td>\n",
              "      <td>270945.589</td>\n",
              "      <td>54899.696</td>\n",
              "      <td>9891.1526</td>\n",
              "      <td>87781.7120</td>\n",
              "      <td>63296.485</td>\n",
              "      <td>84597.793</td>\n",
              "      <td>4016.767</td>\n",
              "      <td>50214.691</td>\n",
              "      <td>139083.461010</td>\n",
              "      <td>101445.821405</td>\n",
              "      <td>1258.5834</td>\n",
              "      <td>16151.2560</td>\n",
              "      <td>24480.889</td>\n",
              "      <td>89856.005</td>\n",
              "      <td>57457.194</td>\n",
              "      <td>219256.279</td>\n",
              "      <td>2584.887</td>\n",
              "      <td>56663.580</td>\n",
              "      <td>12970.174</td>\n",
              "      <td>31592.373</td>\n",
              "      <td>57556.293</td>\n",
              "      <td>187701.224</td>\n",
              "      <td>22772.043</td>\n",
              "      <td>274635.072</td>\n",
              "      <td>97907.513</td>\n",
              "      <td>37557.385693</td>\n",
              "      <td>281.425</td>\n",
              "      <td>5070.775</td>\n",
              "    </tr>\n",
              "    <tr>\n",
              "      <th>2020-01-01 00:30:00</th>\n",
              "      <td>1633538.662</td>\n",
              "      <td>1.393222e+06</td>\n",
              "      <td>1.762931e+06</td>\n",
              "      <td>340919.045477</td>\n",
              "      <td>982585.673766</td>\n",
              "      <td>1801.0</td>\n",
              "      <td>-234.0</td>\n",
              "      <td>17500.0</td>\n",
              "      <td>0.0</td>\n",
              "      <td>0</td>\n",
              "      <td>190616</td>\n",
              "      <td>9600</td>\n",
              "      <td>476163</td>\n",
              "      <td>113904.75</td>\n",
              "      <td>166357.25</td>\n",
              "      <td>378744</td>\n",
              "      <td>49338</td>\n",
              "      <td>501437.25</td>\n",
              "      <td>881483.75</td>\n",
              "      <td>501437.25</td>\n",
              "      <td>42.50</td>\n",
              "      <td>28.34</td>\n",
              "      <td>51.407143</td>\n",
              "      <td>0.0</td>\n",
              "      <td>433590.658</td>\n",
              "      <td>140750.097</td>\n",
              "      <td>15645.457</td>\n",
              "      <td>77911.913</td>\n",
              "      <td>81646.489</td>\n",
              "      <td>45327.543</td>\n",
              "      <td>74045.916</td>\n",
              "      <td>77440.245</td>\n",
              "      <td>8516.039</td>\n",
              "      <td>114165.881</td>\n",
              "      <td>1067.030</td>\n",
              "      <td>14544.880</td>\n",
              "      <td>271241.773</td>\n",
              "      <td>54126.020</td>\n",
              "      <td>9998.2474</td>\n",
              "      <td>86502.8170</td>\n",
              "      <td>67456.886</td>\n",
              "      <td>83062.128</td>\n",
              "      <td>3991.797</td>\n",
              "      <td>49646.792</td>\n",
              "      <td>136984.333766</td>\n",
              "      <td>100434.820616</td>\n",
              "      <td>1257.5106</td>\n",
              "      <td>15872.8190</td>\n",
              "      <td>24334.438</td>\n",
              "      <td>89447.561</td>\n",
              "      <td>54369.192</td>\n",
              "      <td>223531.870</td>\n",
              "      <td>2574.730</td>\n",
              "      <td>55603.565</td>\n",
              "      <td>12205.899</td>\n",
              "      <td>31530.899</td>\n",
              "      <td>56440.368</td>\n",
              "      <td>183950.982</td>\n",
              "      <td>22483.350</td>\n",
              "      <td>274167.349</td>\n",
              "      <td>97350.797</td>\n",
              "      <td>32175.910523</td>\n",
              "      <td>277.625</td>\n",
              "      <td>4953.982</td>\n",
              "    </tr>\n",
              "    <tr>\n",
              "      <th>2020-01-01 00:45:00</th>\n",
              "      <td>1621597.448</td>\n",
              "      <td>1.386665e+06</td>\n",
              "      <td>1.749663e+06</td>\n",
              "      <td>336157.207501</td>\n",
              "      <td>978335.022025</td>\n",
              "      <td>3249.0</td>\n",
              "      <td>-498.0</td>\n",
              "      <td>17500.0</td>\n",
              "      <td>0.0</td>\n",
              "      <td>1500</td>\n",
              "      <td>151364</td>\n",
              "      <td>9800</td>\n",
              "      <td>422938</td>\n",
              "      <td>109304.75</td>\n",
              "      <td>168757.25</td>\n",
              "      <td>319251</td>\n",
              "      <td>55201</td>\n",
              "      <td>438601.25</td>\n",
              "      <td>796063.75</td>\n",
              "      <td>438601.25</td>\n",
              "      <td>42.50</td>\n",
              "      <td>28.34</td>\n",
              "      <td>51.407143</td>\n",
              "      <td>0.0</td>\n",
              "      <td>433719.988</td>\n",
              "      <td>144551.458</td>\n",
              "      <td>15645.635</td>\n",
              "      <td>75927.294</td>\n",
              "      <td>76880.960</td>\n",
              "      <td>45336.079</td>\n",
              "      <td>74543.773</td>\n",
              "      <td>76434.580</td>\n",
              "      <td>8929.051</td>\n",
              "      <td>111314.762</td>\n",
              "      <td>1084.000</td>\n",
              "      <td>14124.850</td>\n",
              "      <td>271360.694</td>\n",
              "      <td>55031.864</td>\n",
              "      <td>9763.8014</td>\n",
              "      <td>84846.3660</td>\n",
              "      <td>64252.732</td>\n",
              "      <td>82498.294</td>\n",
              "      <td>4047.428</td>\n",
              "      <td>49449.491</td>\n",
              "      <td>137009.503025</td>\n",
              "      <td>99280.399178</td>\n",
              "      <td>1264.9706</td>\n",
              "      <td>15409.1060</td>\n",
              "      <td>24478.453</td>\n",
              "      <td>88978.757</td>\n",
              "      <td>53829.797</td>\n",
              "      <td>223612.863</td>\n",
              "      <td>2579.733</td>\n",
              "      <td>55183.572</td>\n",
              "      <td>12204.002</td>\n",
              "      <td>31654.803</td>\n",
              "      <td>54477.617</td>\n",
              "      <td>181309.777</td>\n",
              "      <td>22585.723</td>\n",
              "      <td>272953.642</td>\n",
              "      <td>100067.186</td>\n",
              "      <td>29505.310499</td>\n",
              "      <td>267.700</td>\n",
              "      <td>4724.133</td>\n",
              "    </tr>\n",
              "    <tr>\n",
              "      <th>2020-01-01 01:00:00</th>\n",
              "      <td>1592556.241</td>\n",
              "      <td>1.359379e+06</td>\n",
              "      <td>1.722109e+06</td>\n",
              "      <td>333354.455123</td>\n",
              "      <td>955378.466836</td>\n",
              "      <td>31.0</td>\n",
              "      <td>-6063.0</td>\n",
              "      <td>17500.0</td>\n",
              "      <td>0.0</td>\n",
              "      <td>10800</td>\n",
              "      <td>134072</td>\n",
              "      <td>14100</td>\n",
              "      <td>390883</td>\n",
              "      <td>104804.75</td>\n",
              "      <td>170357.25</td>\n",
              "      <td>289514</td>\n",
              "      <td>58934</td>\n",
              "      <td>418689.25</td>\n",
              "      <td>749828.75</td>\n",
              "      <td>418689.25</td>\n",
              "      <td>42.50</td>\n",
              "      <td>28.34</td>\n",
              "      <td>51.407143</td>\n",
              "      <td>0.0</td>\n",
              "      <td>434494.924</td>\n",
              "      <td>148035.434</td>\n",
              "      <td>15577.960</td>\n",
              "      <td>74133.967</td>\n",
              "      <td>60424.831</td>\n",
              "      <td>46307.773</td>\n",
              "      <td>78067.336</td>\n",
              "      <td>78884.080</td>\n",
              "      <td>8728.171</td>\n",
              "      <td>97896.423</td>\n",
              "      <td>1080.250</td>\n",
              "      <td>13786.880</td>\n",
              "      <td>271419.255</td>\n",
              "      <td>53415.468</td>\n",
              "      <td>9623.2216</td>\n",
              "      <td>82906.0196</td>\n",
              "      <td>60577.645</td>\n",
              "      <td>81620.446</td>\n",
              "      <td>3953.443</td>\n",
              "      <td>48595.129</td>\n",
              "      <td>132616.965836</td>\n",
              "      <td>99206.564279</td>\n",
              "      <td>1269.5644</td>\n",
              "      <td>14951.5674</td>\n",
              "      <td>24455.843</td>\n",
              "      <td>87702.125</td>\n",
              "      <td>51307.544</td>\n",
              "      <td>221716.314</td>\n",
              "      <td>2560.228</td>\n",
              "      <td>53412.973</td>\n",
              "      <td>11110.308</td>\n",
              "      <td>30451.008</td>\n",
              "      <td>52660.752</td>\n",
              "      <td>178683.413</td>\n",
              "      <td>22665.520</td>\n",
              "      <td>269447.769</td>\n",
              "      <td>99494.308</td>\n",
              "      <td>28935.143877</td>\n",
              "      <td>271.775</td>\n",
              "      <td>4654.838</td>\n",
              "    </tr>\n",
              "    <tr>\n",
              "      <th>2020-01-01 01:15:00</th>\n",
              "      <td>1625915.872</td>\n",
              "      <td>1.340288e+06</td>\n",
              "      <td>1.785544e+06</td>\n",
              "      <td>418277.759922</td>\n",
              "      <td>933260.010000</td>\n",
              "      <td>21271.0</td>\n",
              "      <td>-178.0</td>\n",
              "      <td>17500.0</td>\n",
              "      <td>0.0</td>\n",
              "      <td>13300</td>\n",
              "      <td>135760</td>\n",
              "      <td>20072</td>\n",
              "      <td>388316</td>\n",
              "      <td>85863.00</td>\n",
              "      <td>208877.50</td>\n",
              "      <td>228352</td>\n",
              "      <td>73041</td>\n",
              "      <td>344384.00</td>\n",
              "      <td>808275.25</td>\n",
              "      <td>344384.00</td>\n",
              "      <td>40.85</td>\n",
              "      <td>27.23</td>\n",
              "      <td>51.407143</td>\n",
              "      <td>0.0</td>\n",
              "      <td>434427.722</td>\n",
              "      <td>154566.308</td>\n",
              "      <td>21218.205</td>\n",
              "      <td>86877.262</td>\n",
              "      <td>49357.469</td>\n",
              "      <td>46947.348</td>\n",
              "      <td>77535.308</td>\n",
              "      <td>89120.247</td>\n",
              "      <td>8533.872</td>\n",
              "      <td>100178.276</td>\n",
              "      <td>1166.750</td>\n",
              "      <td>13383.320</td>\n",
              "      <td>271275.965</td>\n",
              "      <td>54916.810</td>\n",
              "      <td>9036.2096</td>\n",
              "      <td>105214.0198</td>\n",
              "      <td>42023.160</td>\n",
              "      <td>83535.465</td>\n",
              "      <td>4029.522</td>\n",
              "      <td>49396.832</td>\n",
              "      <td>146411.111000</td>\n",
              "      <td>98323.845532</td>\n",
              "      <td>1261.1814</td>\n",
              "      <td>15508.6552</td>\n",
              "      <td>24390.552</td>\n",
              "      <td>87223.020</td>\n",
              "      <td>52212.586</td>\n",
              "      <td>230348.104</td>\n",
              "      <td>2564.768</td>\n",
              "      <td>53751.489</td>\n",
              "      <td>12645.390</td>\n",
              "      <td>32161.589</td>\n",
              "      <td>49679.854</td>\n",
              "      <td>176702.315</td>\n",
              "      <td>22742.268</td>\n",
              "      <td>266612.860</td>\n",
              "      <td>100046.841</td>\n",
              "      <td>28637.756078</td>\n",
              "      <td>288.025</td>\n",
              "      <td>4723.600</td>\n",
              "    </tr>\n",
              "  </tbody>\n",
              "</table>\n",
              "</div>"
            ],
            "text/plain": [
              "                    Summe endverbrauchte Energie Regelblock Schweiz\\nTotal energy consumed by end users in the Swiss controlblock  ... Verbrauch Regelzone CH - Ausländische Gebiete\\nConsumption control area CH - foreign territories\n",
              "Zeitstempel                                                                                                                   kWh  ...                                                                                              kWh\n",
              "2020-01-01 00:15:00                                        1641923.835                                                             ...                                           5070.775                                              \n",
              "2020-01-01 00:30:00                                        1633538.662                                                             ...                                           4953.982                                              \n",
              "2020-01-01 00:45:00                                        1621597.448                                                             ...                                           4724.133                                              \n",
              "2020-01-01 01:00:00                                        1592556.241                                                             ...                                           4654.838                                              \n",
              "2020-01-01 01:15:00                                        1625915.872                                                             ...                                           4723.600                                              \n",
              "\n",
              "[5 rows x 64 columns]"
            ]
          },
          "metadata": {
            "tags": []
          },
          "execution_count": 96
        }
      ]
    },
    {
      "cell_type": "markdown",
      "metadata": {
        "id": "GyUmZkhbpq6F"
      },
      "source": [
        "Pandas has some powerful functions to manipulated tabular data. The following line of code does the following:\n",
        "* `data[['Import',\t'Export']]` select some columns from the DataFrame \n",
        "* `.loc[data.index>\"2020-12-01\"]` applies a filter on the dates of Dataframe's index\n",
        "* `.resample('1d')` resample the signal using daily samples\n",
        "* `.sum()` applies sum as resampling function\n",
        "* `.plot(alpha=0.8)` plot results with transparency"
      ]
    },
    {
      "cell_type": "code",
      "metadata": {
        "colab": {
          "base_uri": "https://localhost:8080/",
          "height": 329
        },
        "id": "3pUEQ6LjkP-P",
        "outputId": "36e76e8e-1b44-43b8-93b8-dcbaf85822b2"
      },
      "source": [
        "data[['Import',\t'Export']].loc[data.index>\"2020-12-01\"].resample('1d').sum().plot(alpha=0.8)"
      ],
      "execution_count": 97,
      "outputs": [
        {
          "output_type": "execute_result",
          "data": {
            "text/plain": [
              "<matplotlib.axes._subplots.AxesSubplot at 0x7f8592116090>"
            ]
          },
          "metadata": {
            "tags": []
          },
          "execution_count": 97
        },
        {
          "output_type": "display_data",
          "data": {
            "image/png": "[encoded data removed]",
            "text/plain": [
              "<Figure size 432x288 with 1 Axes>"
            ]
          },
          "metadata": {
            "tags": [],
            "needs_background": "light"
          }
        }
      ]
    },
    {
      "cell_type": "markdown",
      "metadata": {
        "id": "l6Arj7S2vAWY"
      },
      "source": [
        "# Exercises\n",
        "Now you have all the basic tools to answer these questions:\n",
        "1. Which percentage of energy consumed in Switzerland is not consumed by end-users? What's the reason of the difference?\n"
      ]
    },
    {
      "cell_type": "code",
      "metadata": {
        "id": "Z4RUWSmjx3rx"
      },
      "source": [
        ""
      ],
      "execution_count": 97,
      "outputs": []
    },
    {
      "cell_type": "markdown",
      "metadata": {
        "id": "lUhaH5Scx4Ls"
      },
      "source": [
        "2. What was the negative secundary control energy peak? How do you think it was consumed?\n"
      ]
    },
    {
      "cell_type": "code",
      "metadata": {
        "id": "0brO2RXGx59r"
      },
      "source": [
        ""
      ],
      "execution_count": 97,
      "outputs": []
    },
    {
      "cell_type": "markdown",
      "metadata": {
        "id": "fAEtJmomx7Fr"
      },
      "source": [
        "3. In Switzerland there are ~ 2.5 GWp of PV. Considering a summer day at noon, we can estimate their total production to be about 80% of their nominal power. Given these hypotesis, what portion of the end users' consumption was covered by PVs the 3rd of July, at noon?"
      ]
    },
    {
      "cell_type": "code",
      "metadata": {
        "id": "IYmT8diXx8PE"
      },
      "source": [
        ""
      ],
      "execution_count": 97,
      "outputs": []
    }
  ]
}